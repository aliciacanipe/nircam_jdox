{
 "cells": [
  {
   "cell_type": "markdown",
   "metadata": {},
   "source": [
    "# Template for Notebooks to Create JDox Figures"
   ]
  },
  {
   "cell_type": "markdown",
   "metadata": {},
   "source": [
    "This notebook is based off of the [STScI Style Guides](https://github.com/spacetelescope/style-guides/blob/master/guides/jupyter-notebooks.md) for Jupyter Notebooks. Please follow this format if you create a notebook for generating JDox figures. "
   ]
  },
  {
   "cell_type": "markdown",
   "metadata": {},
   "source": [
    "***\n",
    "### Table of Contents\n",
    "\n",
    "1. [Information](#Information)\n",
    "2. [Imports](#Imports)\n",
    "3. [Data](#Data)\n",
    "4. [Generate the Plot](#Generate-the-Plot)\n",
    "5. [Issues](#Issues)\n",
    "6. [About this Notebook](#About-this-Notebook)\n",
    "***"
   ]
  },
  {
   "cell_type": "markdown",
   "metadata": {},
   "source": [
    "## Information"
   ]
  },
  {
   "cell_type": "markdown",
   "metadata": {},
   "source": [
    "#### JDox links: \n",
    "* [Add link to the page that contains the figure here](https://jwst-docs.stsci.edu/display/JTI/NIRCam+Grism+Time+Series#NIRCamGrismTimeSeries-Filters)\n",
    "    * Figure #: Add the title of the figure "
   ]
  },
  {
   "cell_type": "markdown",
   "metadata": {},
   "source": [
    "## Imports"
   ]
  },
  {
   "cell_type": "code",
   "execution_count": null,
   "metadata": {},
   "outputs": [],
   "source": [
    "# Add any imports necessary to generate the figures\n",
    "# e.g.,\n",
    "import os\n",
    "import numpy as np\n",
    "import matplotlib.pyplot as plt"
   ]
  },
  {
   "cell_type": "markdown",
   "metadata": {},
   "source": [
    "## Data"
   ]
  },
  {
   "cell_type": "markdown",
   "metadata": {},
   "source": [
    "Add more information about the data here. Helpful information to include:\n",
    "* person to contact for data information\n",
    "* date the data was created\n",
    "* location of the data\n",
    "* filenames\n",
    "\n",
    "#### Data Location: \n",
    "\n",
    "The data is stored in a NIRCam JDox Box folder here:\n",
    "[ST-INS-NIRCAM -> JDox -> grism_time_series](https://stsci.box.com/s/tf6049a75u6f3uc26q3xu6w8tv456pk7)"
   ]
  },
  {
   "cell_type": "markdown",
   "metadata": {},
   "source": [
    "#### Load the data\n",
    "\n",
    "(The next cell assumes you downloaded the data into your ```Users/$(logname)/``` home directory)"
   ]
  },
  {
   "cell_type": "code",
   "execution_count": null,
   "metadata": {},
   "outputs": [],
   "source": [
    "box_directory = \"/Users/\"+os.environ['LOGNAME']+\"/box_data/\"   \n",
    "box_directory"
   ]
  },
  {
   "cell_type": "code",
   "execution_count": null,
   "metadata": {},
   "outputs": [],
   "source": [
    "# datafile = box_directory+\"name_of_file.fits\""
   ]
  },
  {
   "cell_type": "markdown",
   "metadata": {},
   "source": [
    "## Generate the Plot"
   ]
  },
  {
   "cell_type": "markdown",
   "metadata": {
    "scrolled": false
   },
   "source": [
    "Add well-documented code that will produce the plot (include docstrings, if applicable). This makes it easier for someone else to come along and update or reproduce the plot, if necessary. For more information on Pep8, see the [STScI Style Guide](https://github.com/spacetelescope/style-guides/blob/master/guides/python.md)."
   ]
  },
  {
   "cell_type": "code",
   "execution_count": null,
   "metadata": {},
   "outputs": [],
   "source": [
    "def dummy_plot(numpoints):\n",
    "    '''This is an example of documented code.'''\n",
    "    \n",
    "    # e.g., commented code\n",
    "    CONSTANT = 2.0\n",
    "    xvals = np.arange(1, numpoints)\n",
    "    yvals = CONSTANT * np.arange(1, numpoints)\n",
    "    \n",
    "    return xvals, yvals"
   ]
  },
  {
   "cell_type": "code",
   "execution_count": null,
   "metadata": {},
   "outputs": [],
   "source": [
    "# generate the dummy data\n",
    "dummyx, dummyy = dummy_plot(20)\n",
    "\n",
    "# initialize the plot\n",
    "f, ax1 = plt.subplots(1, 1, figsize=(10, 10))\n",
    "\n",
    "# plot the dummy data\n",
    "ax1.plot(dummyx, dummyy, marker='o', label='dummy_plot')\n",
    "\n",
    "# format the figure\n",
    "ax1.set_xlabel('X values (sec)', fontsize=12)\n",
    "ax1.set_ylabel('Y values (ADU)', fontsize=12)\n",
    "ax1.set_title('Example JDox Figure', fontsize=14)\n",
    "ax1.legend(fontsize=12)"
   ]
  },
  {
   "cell_type": "markdown",
   "metadata": {},
   "source": [
    "## Issues"
   ]
  },
  {
   "cell_type": "markdown",
   "metadata": {},
   "source": [
    "* Add any issues or things that may need to be updated in the future"
   ]
  },
  {
   "cell_type": "markdown",
   "metadata": {},
   "source": [
    "## About this Notebook\n",
    "**Authors:**   \n",
    "(add name(s) of figure authors)\n",
    "\n",
    "**Updated On:**   \n",
    "April 09, 2019"
   ]
  }
 ],
 "metadata": {
  "kernelspec": {
   "display_name": "Python 3",
   "language": "python",
   "name": "python3"
  },
  "language_info": {
   "codemirror_mode": {
    "name": "ipython",
    "version": 3
   },
   "file_extension": ".py",
   "mimetype": "text/x-python",
   "name": "python",
   "nbconvert_exporter": "python",
   "pygments_lexer": "ipython3",
   "version": "3.5.5"
  }
 },
 "nbformat": 4,
 "nbformat_minor": 1
}
