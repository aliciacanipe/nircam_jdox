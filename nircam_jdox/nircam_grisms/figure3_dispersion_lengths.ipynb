{
 "cells": [
  {
   "cell_type": "markdown",
   "metadata": {},
   "source": [
    "# Figure 3: NIRCam Grism Dispersion Lengths for Module A"
   ]
  },
  {
   "cell_type": "markdown",
   "metadata": {},
   "source": [
    "***\n",
    "### Table of Contents\n",
    "\n",
    "1. [Information](#Information)\n",
    "2. [Imports](#Imports)\n",
    "3. [Data](#Data)\n",
    "4. [Generate the Grism Dispersion Lengths Plot](#Generate-the-Grism-Dispersion-Lengths-Plot)\n",
    "5. [Issues](#Issues)\n",
    "6. [About this Notebook](#About-this-Notebook)\n",
    "***"
   ]
  },
  {
   "cell_type": "markdown",
   "metadata": {},
   "source": [
    "## Information"
   ]
  },
  {
   "cell_type": "markdown",
   "metadata": {},
   "source": [
    "#### JDox links: \n",
    "* [NIRCam Grisms](https://jwst-docs.stsci.edu/display/JTI/NIRCam+Grisms#NIRCamGrisms-Dispersion)\n",
    "    * Figure 3. NIRCam grism dispersion lengths for module A"
   ]
  },
  {
   "cell_type": "markdown",
   "metadata": {},
   "source": [
    "## Imports"
   ]
  },
  {
   "cell_type": "code",
   "execution_count": null,
   "metadata": {},
   "outputs": [],
   "source": [
    "import os\n",
    "import numpy as np\n",
    "import pandas as pd\n",
    "from astropy.io import ascii, fits\n",
    "from astropy.table import Table\n",
    "from scipy.optimize import fmin\n",
    "from scipy.interpolate import interp1d\n",
    "import matplotlib.patches as patches\n",
    "import matplotlib.pyplot as plt\n",
    "%matplotlib inline"
   ]
  },
  {
   "cell_type": "markdown",
   "metadata": {},
   "source": [
    "## Data"
   ]
  },
  {
   "cell_type": "markdown",
   "metadata": {},
   "source": [
    "#### Data Location: \n",
    "\n",
    "The data is stored in a NIRCam JDox Box folder here:\n",
    "[ST-INS-NIRCAM -> JDox -> nircam_grisms](https://stsci.box.com/s/wu9mo54vi957x50rdirlcg9zkkr3xiaw)"
   ]
  },
  {
   "cell_type": "markdown",
   "metadata": {},
   "source": [
    "#### Load the data\n",
    "\n",
    "(The next cell assumes you downloaded the data into your ```Users/$(logname)/``` home directory)"
   ]
  },
  {
   "cell_type": "code",
   "execution_count": null,
   "metadata": {},
   "outputs": [],
   "source": [
    "box_directory = \"/Users/\"+os.environ['LOGNAME']+\"/box_data/\"   \n",
    "box_directory"
   ]
  },
  {
   "cell_type": "code",
   "execution_count": null,
   "metadata": {},
   "outputs": [],
   "source": [
    "filenames = []\n",
    "for fil in filters:\n",
    "    filenames.append(box_directory+\"NIRCam.%s.%s.%s.2nd.sensitivity.fits\" % (fil,grism,mod))                  "
   ]
  },
  {
   "cell_type": "code",
   "execution_count": null,
   "metadata": {},
   "outputs": [],
   "source": [
    "filenames"
   ]
  },
  {
   "cell_type": "code",
   "execution_count": null,
   "metadata": {},
   "outputs": [],
   "source": [
    "grism = \"R\"\n",
    "mod = \"A\"\n",
    "thr = 0.05 # 5% of peak boundaries\n",
    "filters = [\"F250M\",\"F277W\",\"F300M\",\"F322W2\",\"F335M\",\"F356W\",\"F360M\",\"F410M\",\"F430M\",\"F444W\",\"F460M\",\"F480M\"]"
   ]
  },
  {
   "cell_type": "markdown",
   "metadata": {},
   "source": [
    "### Define some convenience functions"
   ]
  },
  {
   "cell_type": "code",
   "execution_count": null,
   "metadata": {},
   "outputs": [],
   "source": [
    "def find_nearest(array,value):\n",
    "    idx = (np.abs(array-value)).argmin()\n",
    "    return array[idx]\n",
    "\n",
    "\n",
    "def find_nearest(array,value):\n",
    "    idx = (np.abs(array-value)).argmin()\n",
    "    return array[idx]\n",
    "\n",
    "\n",
    "def find_mid(w,s,w0,thr=0.05):\n",
    "    fct = interp1d(w,s,bounds_error=None,fill_value='extrapolate')\n",
    "    def func(x):\n",
    "        #print \"x:\",x\n",
    "        return np.abs(fct(x)-thr)\n",
    "    \n",
    "    res = fmin(func,w0)\n",
    "    \n",
    "    return res[0]"
   ]
  },
  {
   "cell_type": "code",
   "execution_count": null,
   "metadata": {
    "scrolled": false
   },
   "outputs": [],
   "source": [
    "tab = []\n",
    "for fname in filenames:\n",
    "    d = fits.open(fname)\n",
    "    w = d[1].data[\"WAVELENGTH\"]\n",
    "    s = d[1].data[\"SENSITIVITY\"]\n",
    "    s = s/np.max(s)\n",
    "    wmin,wmax = np.min(w),np.max(w)\n",
    "    vg = w<(wmax+wmin)/2.\n",
    "    w1 = find_mid(w[vg],s[vg],wmin,thr)\n",
    "    \n",
    "    vg = w>(wmax+wmin)/2.\n",
    "    w2 =  find_mid(w[vg],s[vg],wmax,thr)\n",
    "#     print('\\n')\n",
    "#     print('Filter,lamda1,lamda2,dispersedpix: '+str([fil,w1,w2,(w2-w1)*1000]))\n",
    "#     print('\\n\\n')\n",
    "    \n",
    "    tab.append([fil,w1,w2,(w2-w1)*1000])\n",
    "    \n",
    "columns=['filter','lambda1','lambda2','npix']\n",
    "df = pd.DataFrame(tab, columns=columns)\n",
    "table = Table.from_pandas(df)"
   ]
  },
  {
   "cell_type": "code",
   "execution_count": null,
   "metadata": {
    "scrolled": false
   },
   "outputs": [],
   "source": [
    "tab2 = []\n",
    "for fname in filenames:\n",
    "    d = fits.open(fname)\n",
    "    w = d[1].data[\"WAVELENGTH\"]\n",
    "    s = d[1].data[\"SENSITIVITY\"]\n",
    "    s = s/np.max(s)\n",
    "    wmin,wmax = np.min(w),np.max(w)\n",
    "    vg = w<(wmax+wmin)/2.\n",
    "    w1 = find_mid(w[vg],s[vg],wmin,thr)\n",
    "    \n",
    "    vg = w>(wmax+wmin)/2.\n",
    "    w2 =  find_mid(w[vg],s[vg],wmax,thr)\n",
    "#     print('\\n')\n",
    "#     print('Filter,lamda1,lamda2,dispersedpix: '+str([fil,w1,w2,(w2-w1)*1000]))\n",
    "#     print('\\n\\n')\n",
    "    \n",
    "    tab2.append([fil,w1,w2,(w2-w1)*1000])\n",
    "    \n",
    "columns=['filter','lambda1','lambda2','npix']\n",
    "df = pd.DataFrame(tab2, columns=columns)\n",
    "table2 = Table.from_pandas(df)"
   ]
  },
  {
   "cell_type": "markdown",
   "metadata": {},
   "source": [
    "## Generate the Grism Dispersion Lengths Plot"
   ]
  },
  {
   "cell_type": "code",
   "execution_count": null,
   "metadata": {},
   "outputs": [],
   "source": [
    "f, ax1 = plt.subplots(1,figsize=(15, 20))\n",
    "ms = 14\n",
    "for i in np.arange(0,len(table)):\n",
    "    ax1.plot([table[i]['lambda1'],table[i]['lambda2']], [int(i),int(i)], 'k', lw=3) \n",
    "    ax1.plot([table2[i]['lambda1']*2,table2[i]['lambda2']*2], [int(i),int(i)], 'k', alpha=0.3, lw=3) \n",
    "    ax1.text(1.5, int(i), table[i]['filter'], va='center', fontsize=22)\n",
    "    ax1.plot(3.9, int(i), 'kx', ms=ms)\n",
    "\n",
    "ax1.plot(3.9, 4, 'kx', ms=ms)\n",
    "ax1.plot(3.9, 3, 'kx', ms=ms)\n",
    "ax1.plot(3.9, 2, 'kx', ms=ms)\n",
    "ax1.plot(3.9, 1, 'kx', ms=ms)\n",
    "ax1.plot(3.9, 0, 'kx', ms=ms)\n",
    "\n",
    "ax1.text(4.66, 5., 'detector', va='center', fontsize=22,color='red')\n",
    "ax1.text(4.5, 5.35, '(2040 pixels)', va='center', fontsize=22,color='red')\n",
    "ax1.text(3.0, -0.8, '-x (Row)', va='center', fontsize=22,color='red')\n",
    "ax1.text(3.4, -1.5, 'source position', va='center', fontsize=22,color='black')\n",
    "\n",
    "xticks = ax1.xaxis.get_major_ticks()\n",
    "xticks[0].label1.set_visible(False)\n",
    "\n",
    "ax1.set_xlim(1.25, 5.5)\n",
    "\n",
    "ax1.xaxis.tick_top()\n",
    "ax1.xaxis.set_label_position('top') \n",
    "ax1.xaxis.set_ticks_position('both')\n",
    "\n",
    "ax1.tick_params(labelsize=20)\n",
    "plt.setp(ax1.get_yticklines(),visible=False)\n",
    "ax1.tick_params('x', length=10, width=0.5,direction='in',which='major')\n",
    "\n",
    "ax1.add_patch(patches.Rectangle((2.2, 3.75),2, 0.5,fill=False,color='red',lw=4))\n",
    "ax1.add_patch(patches.Rectangle((2.2, 2.75),2, 0.5,fill=False,color='red',lw=4))\n",
    "ax1.add_patch(patches.Rectangle((2.2, 1.75),2, 0.5,fill=False,color='red',lw=4))\n",
    "ax1.add_patch(patches.Rectangle((2.2, 0.75),2, 0.5,fill=False,color='red',lw=4))\n",
    "ax1.add_patch(patches.Rectangle((2.2, -0.25),2, 0.5,fill=False,color='red',lw=4))\n",
    "ax1.add_patch(patches.Rectangle((2.2, 4.75),2, 0.5,fill=False,color='red',lw=4))\n",
    "ax1.add_patch(patches.Rectangle((3.3, 5.75),2, 0.5,fill=False,color='red',lw=4))\n",
    "ax1.add_patch(patches.Rectangle((3.3, 6.75),2, 0.5,fill=False,color='red',lw=4))\n",
    "ax1.add_patch(patches.Rectangle((3.3, 7.75),2, 0.5,fill=False,color='red',lw=4))\n",
    "ax1.add_patch(patches.Rectangle((3.3, 8.75),2, 0.5,fill=False,color='red',lw=4))\n",
    "ax1.add_patch(patches.Rectangle((3.3, 9.75),2, 0.5,fill=False,color='red',lw=4))\n",
    "ax1.add_patch(patches.Rectangle((3.3, 10.75),2, 0.5,fill=False,color='red',lw=4))\n",
    "\n",
    "ax1.arrow(3.0, -0.45, 0.44, 0, head_width=0.22, head_length=0.1, fc='r', ec='r')\n",
    "ax1.arrow(3.9, -1.15, 0, 0.6,head_width=0.1,head_length=0.2, fc='k', ec='k')\n",
    "\n",
    "ax1.annotate('$1^{st}$ order',\n",
    "            xy=(1.44,-2.0), xycoords='data',\n",
    "            xytext=(80, 0), textcoords='offset points',\n",
    "            arrowprops=dict(arrowstyle='-', ls='solid',facecolor='black',lw=4,shrinkB=3),\n",
    "            horizontalalignment='center', verticalalignment='center',fontsize=18)    \n",
    "ax1.annotate('$2^{nd}$ order',\n",
    "            xy=(1.44,-1.6), xycoords='data',\n",
    "            xytext=(81, 0), textcoords='offset points',\n",
    "            arrowprops=dict(arrowstyle='-', ls='solid',facecolor='black',alpha=0.3,lw=4,shrinkB=3),\n",
    "            horizontalalignment='center', verticalalignment='center',fontsize=18) \n",
    "\n",
    "ax1.add_patch(patches.Rectangle((1.33, -2.3),0.9, 1,fill=False,color='grey',lw=1))\n",
    "\n",
    "ax1.set_yticklabels([])\n",
    "plt.gca().invert_yaxis()\n",
    "ax1.set_ylim(11.7, -2.5)\n",
    "\n",
    "f.text(0.5, 0.925,'First-Order Wavelength (microns)', ha='center', fontsize=20)\n",
    "\n",
    "ax1.xaxis.get_major_ticks()[1].draw = lambda *args:None\n",
    "ax1.xaxis.get_major_ticks()[-1].draw = lambda *args:None"
   ]
  },
  {
   "cell_type": "markdown",
   "metadata": {},
   "source": [
    "## Issues"
   ]
  },
  {
   "cell_type": "markdown",
   "metadata": {},
   "source": [
    "* None"
   ]
  },
  {
   "cell_type": "markdown",
   "metadata": {},
   "source": [
    "## About this Notebook\n",
    "**Authors:**   \n",
    "Dan Coe & Alicia Canipe\n",
    "\n",
    "**Updated On:**   \n",
    "April 10, 2019"
   ]
  },
  {
   "cell_type": "code",
   "execution_count": null,
   "metadata": {},
   "outputs": [],
   "source": []
  }
 ],
 "metadata": {
  "kernelspec": {
   "display_name": "Python 3",
   "language": "python",
   "name": "python3"
  },
  "language_info": {
   "codemirror_mode": {
    "name": "ipython",
    "version": 3
   },
   "file_extension": ".py",
   "mimetype": "text/x-python",
   "name": "python",
   "nbconvert_exporter": "python",
   "pygments_lexer": "ipython3",
   "version": "3.5.5"
  }
 },
 "nbformat": 4,
 "nbformat_minor": 1
}
