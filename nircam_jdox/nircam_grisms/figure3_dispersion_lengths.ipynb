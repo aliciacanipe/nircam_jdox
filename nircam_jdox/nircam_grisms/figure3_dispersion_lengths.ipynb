{
 "cells": [
  {
   "cell_type": "markdown",
   "metadata": {},
   "source": [
    "# Figure 3: NIRCam grism dispersion lengths for module A"
   ]
  },
  {
   "cell_type": "markdown",
   "metadata": {},
   "source": [
    "***\n",
    "### Table of Contents\n",
    "\n",
    "1. [Information](#Information)\n",
    "2. [Imports](#Imports)\n",
    "3. [Data](#Data)\n",
    "4. [Generate the Grism Dispersions Within Subarrays Plot](#Generate-the-Grism-Dispersions-Within-Subarrays-Plot)\n",
    "5. [Issues](#Issues)\n",
    "6. [About this Notebook](#About-this-Notebook)\n",
    "***"
   ]
  },
  {
   "cell_type": "markdown",
   "metadata": {},
   "source": [
    "## Information"
   ]
  },
  {
   "cell_type": "markdown",
   "metadata": {},
   "source": [
    "#### JDox links: \n",
    "* [NIRCam Grisms](https://jwst-docs.stsci.edu/near-infrared-camera/nircam-instrumentation/nircam-grisms)\n",
    "    * Figure 3. NIRCam grism dispersion lengths for module A"
   ]
  },
  {
   "cell_type": "markdown",
   "metadata": {},
   "source": [
    "## Imports"
   ]
  },
  {
   "cell_type": "code",
   "execution_count": 1,
   "metadata": {},
   "outputs": [],
   "source": [
    "import os\n",
    "import numpy as np\n",
    "import pandas as pd\n",
    "from astropy.io import ascii, fits\n",
    "import matplotlib.patches as patches\n",
    "import matplotlib.pyplot as plt\n",
    "import grismconf\n",
    "from itertools import product\n",
    "\n",
    "%matplotlib notebook"
   ]
  },
  {
   "cell_type": "markdown",
   "metadata": {},
   "source": [
    "## Data"
   ]
  },
  {
   "cell_type": "markdown",
   "metadata": {},
   "source": [
    "#### Data Location: \n",
    "\n",
    "In notebook (TBD: use Nor Pirzkal's [grismconf](https://github.com/npirzkal/GRISMCONF) code to create figure parameters)"
   ]
  },
  {
   "cell_type": "code",
   "execution_count": 2,
   "metadata": {},
   "outputs": [],
   "source": [
    "datadir = '/user/gennaro/Functional_work/NIRCam_GRISM_viz/GRISM_NIRCAM_config_data/'"
   ]
  },
  {
   "cell_type": "markdown",
   "metadata": {},
   "source": [
    "### Initial Setup"
   ]
  },
  {
   "cell_type": "markdown",
   "metadata": {},
   "source": [
    "### Define the wavelength range as the range for which the sensitivity is larger than a given fraction of the maximum"
   ]
  },
  {
   "cell_type": "code",
   "execution_count": 3,
   "metadata": {},
   "outputs": [],
   "source": [
    "facs = [0.5,0.01]\n",
    "exts = [{} for fac in facs]\n",
    "\n",
    "filters = [\"F250M\",\"F277W\",\"F300M\",\"F322W2\",\"F335M\",\"F356W\",\"F360M\",\"F410M\",\"F430M\",\"F444W\",\"F460M\",\"F480M\"]\n",
    "orders = ['1st', '2nd']\n",
    "modules = ['A']\n",
    "orients = ['R']\n",
    "\n",
    "for fac, ext in zip(facs,exts):\n",
    "    for j,filt in enumerate(filters):\n",
    "\n",
    "        for orient,module, order in product(orients,modules,orders):\n",
    "            fname = 'NIRCam.{}.{}.{}.{}.sensitivity.fits'.format(filt,orient,module,order)\n",
    "\n",
    "            h = fits.open(datadir+fname)\n",
    "            imax = np.argmax(h[1].data['SENSITIVITY'])\n",
    "            BM = h[1].data['SENSITIVITY'] >= fac*h[1].data['SENSITIVITY'][imax]\n",
    "            ilow = np.nonzero(BM)[0][0]\n",
    "            ihigh = np.nonzero(BM)[0][-1]\n",
    "            \n",
    "            if ( (orient == 'R') and (module=='A') and (order == '1st')):\n",
    "                ext[filt] = [h[1].data['WAVELENGTH'][ilow],h[1].data['WAVELENGTH'][ihigh]]\n"
   ]
  },
  {
   "cell_type": "markdown",
   "metadata": {},
   "source": [
    "#### For the given filter/module/order/orient combo, use grismconf to get the (x,y) position of the spectra extrema w.r.t. the undeflected wavelength of 3.95 $\\mu$m"
   ]
  },
  {
   "cell_type": "code",
   "execution_count": 4,
   "metadata": {},
   "outputs": [],
   "source": [
    "xys = {\"F250M\":(1581,280),       \n",
    "       \"F277W\":(1581,280),\n",
    "       \"F300M\":(1581,280),       \n",
    "       \"F322W2\":(1581,280),\n",
    "       \"F335M\":(1581,280),\n",
    "       \"F356W\":(1581,280),\n",
    "       \"F360M\":(952,280),  \n",
    "       \"F410M\":(952,280),       \n",
    "       \"F430M\":(952,280),              \n",
    "       \"F444W\":(952,280),\n",
    "       \"F460M\":(952,280),\n",
    "       \"F480M\":(952,280)       \n",
    "      }\n",
    "orders = ['+1', '+2']"
   ]
  },
  {
   "cell_type": "code",
   "execution_count": 5,
   "metadata": {},
   "outputs": [
    {
     "name": "stdout",
     "output_type": "stream",
     "text": [
      "0.5 F250M A R +1\n",
      "{'xstart': 67.55378488382871, 'ystart': 280.0, 'xend': 244.34661356264428, 'yend': 280.0, 'mustart': 2.4175000000000018, 'muend': 2.595000000000002}\n",
      "0.5 F250M A R +2\n",
      "{'xstart': 2473.834130437361, 'ystart': 280.0, 'xend': 2811.311101587703, 'yend': 280.0, 'mustart': 2.416702733485195, 'muend': 2.5861161731207307}\n",
      "0.5 F277W A R +1\n",
      "{'xstart': 195.04382490517423, 'ystart': 280.0, 'xend': 779.2071718275881, 'yend': 280.0, 'mustart': 2.545500000000002, 'muend': 3.132000000000002}\n",
      "0.5 F277W A R +2\n",
      "{'xstart': 2698.2551175913823, 'ystart': 280.0, 'xend': 3759.149471020693, 'yend': 280.0, 'mustart': 2.529362068965519, 'muend': 3.06193103448276}\n",
      "0.5 F300M A R +1\n",
      "{'xstart': 481.8964142960024, 'ystart': 280.0, 'xend': 804.6055775600022, 'yend': 280.0, 'mustart': 2.833500000000002, 'muend': 3.157500000000002}\n",
      "0.5 F300M A R +2\n",
      "{'xstart': 3331.6573702100036, 'ystart': 280.0, 'xend': 3835.0836648500035, 'yend': 280.0, 'mustart': 2.8473300000000017, 'muend': 3.1000500000000017}\n",
      "0.5 F322W2 A R +1\n",
      "{'xstart': 764.7649399166687, 'ystart': 280.0, 'xend': 1657.1952187144082, 'yend': 280.0, 'mustart': 3.117500000000002, 'muend': 4.013500000000001}\n",
      "0.5 F322W2 A R +2\n",
      "{'xstart': 3413.337317666669, 'ystart': 280.0, 'xend': 4643.580187759324, 'yend': 280.0, 'mustart': 2.8883333333333345, 'muend': 3.505915254237289}\n",
      "0.5 F335M A R +1\n",
      "{'xstart': 831.4980076094847, 'ystart': 280.0, 'xend': 1184.0876490267262, 'yend': 280.0, 'mustart': 3.184500000000002, 'muend': 3.538500000000002}\n",
      "0.5 F335M A R +2\n",
      "{'xstart': 4044.7235537448305, 'ystart': 280.0, 'xend': 4506.129653717244, 'yend': 280.0, 'mustart': 3.2052892241379323, 'muend': 3.436915086206898}\n",
      "0.5 F356W A R +1\n",
      "{'xstart': 804.6055781037758, 'ystart': 280.0, 'xend': 1624.8247012754741, 'yend': 280.0, 'mustart': 3.157500000000002, 'muend': 3.981000000000002}\n",
      "0.5 F356W A R +2\n",
      "{'xstart': 3935.9951141132096, 'ystart': 280.0, 'xend': 4709.786739864154, 'yend': 280.0, 'mustart': 3.1507075471698123, 'muend': 3.5391509433962276}\n",
      "0.5 F360M A R +1\n",
      "{'xstart': 447.01992074603436, 'ystart': 280.0, 'xend': 829.9880483333355, 'yend': 280.0, 'mustart': 3.4300000000000024, 'muend': 3.814500000000002}\n",
      "0.5 F360M A R +2\n",
      "{'xstart': 3897.5036992539694, 'ystart': 280.0, 'xend': 4116.342629216668, 'yend': 280.0, 'mustart': 3.447142857142858, 'muend': 3.557000000000001}\n",
      "0.5 F410M A R +1\n",
      "{'xstart': 880.7848606963266, 'ystart': 280.0, 'xend': 1315.0478091257378, 'yend': 280.0, 'mustart': 3.865500000000003, 'muend': 4.3015000000000025}\n",
      "0.5 F410M A R +2\n",
      "{'xstart': 5424.118144583824, 'ystart': 280.0, 'xend': 5525.659039913236, 'yend': 280.0, 'mustart': 4.21350330882353, 'muend': 4.264476838235295}\n",
      "0.5 F430M A R +1\n",
      "{'xstart': 1181.581673385718, 'ystart': 280.0, 'xend': 1411.1633468971459, 'yend': 280.0, 'mustart': 4.167500000000004, 'muend': 4.398000000000003}\n",
      "0.5 F430M A R +2\n",
      "{'xstart': 5462.507967692861, 'ystart': 280.0, 'xend': 5724.231075548575, 'yend': 280.0, 'mustart': 4.232775000000002, 'muend': 4.364160000000002}\n",
      "0.5 F444W A R +1\n",
      "{'xstart': 896.7211159193461, 'ystart': 280.0, 'xend': 1994.8286859065718, 'yend': 280.0, 'mustart': 3.881500000000003, 'muend': 4.984000000000003}\n",
      "0.5 F444W A R +2\n",
      "{'xstart': 5535.025561509493, 'ystart': 280.0, 'xend': 6897.640794305113, 'yend': 280.0, 'mustart': 4.269178832116791, 'muend': 4.953211678832119}\n",
      "0.5 F460M A R +1\n",
      "{'xstart': 1528.1952188631615, 'ystart': 280.0, 'xend': 1759.2709162105302, 'yend': 280.0, 'mustart': 4.515500000000004, 'muend': 4.747500000000004}\n",
      "0.5 F460M A R +2\n",
      "{'xstart': 6100.418169410531, 'ystart': 280.0, 'xend': 6403.857045368426, 'yend': 280.0, 'mustart': 4.553005921052634, 'muend': 4.705332236842108}\n",
      "0.5 F480M A R +1\n",
      "{'xstart': 1674.1115540981164, 'ystart': 280.0, 'xend': 1977.3984065641541, 'yend': 280.0, 'mustart': 4.6620000000000035, 'muend': 4.9665000000000035}\n",
      "0.5 F480M A R +2\n",
      "{'xstart': 6418.1166652603815, 'ystart': 280.0, 'xend': 6830.128993247175, 'yend': 280.0, 'mustart': 4.712490566037738, 'muend': 4.919320754716984}\n",
      "0.01 F250M A R +1\n",
      "{'xstart': 50.123506000001726, 'ystart': 280.0, 'xend': 268.25099603189256, 'yend': 280.0, 'mustart': 2.4000000000000017, 'muend': 2.619000000000002}\n",
      "0.01 F250M A R +2\n",
      "{'xstart': 2440.5617530000036, 'ystart': 280.0, 'xend': 2856.9417906446506, 'yend': 280.0, 'mustart': 2.4000000000000017, 'muend': 2.609022779043282}\n",
      "0.01 F277W A R +1\n",
      "{'xstart': 28.709163462645165, 'ystart': 280.0, 'xend': 871.8366539482778, 'yend': 280.0, 'mustart': 2.3785000000000016, 'muend': 3.225000000000002}\n",
      "0.01 F277W A R +2\n",
      "{'xstart': 2396.1760774844856, 'ystart': 280.0, 'xend': 3927.3731280862103, 'yend': 280.0, 'mustart': 2.377718390804599, 'muend': 3.1463793103448294}\n",
      "0.01 F300M A R +1\n",
      "{'xstart': 422.63346610400254, 'ystart': 280.0, 'xend': 898.7290835120023, 'yend': 280.0, 'mustart': 2.7740000000000022, 'muend': 3.252000000000002}\n",
      "0.01 F300M A R +2\n",
      "{'xstart': 3239.207171040004, 'ystart': 280.0, 'xend': 3981.9163341200037, 'yend': 280.0, 'mustart': 2.800920000000002, 'muend': 3.173760000000002}\n",
      "0.01 F322W2 A R +1\n",
      "{'xstart': 44.14741010621674, 'ystart': 280.0, 'xend': 1766.7569716918097, 'yend': 280.0, 'mustart': 2.394000000000002, 'muend': 4.123500000000002}\n",
      "0.01 F322W2 A R +2\n",
      "{'xstart': 2419.9436608452006, 'ystart': 280.0, 'xend': 4794.614468685879, 'yend': 280.0, 'mustart': 2.3896497175141254, 'muend': 3.5817344632768373}\n",
      "0.01 F335M A R +1\n",
      "{'xstart': 768.7490036284505, 'ystart': 280.0, 'xend': 1290.163346232761, 'yend': 280.0, 'mustart': 3.1215000000000024, 'muend': 3.6450000000000022}\n",
      "0.01 F335M A R +2\n",
      "{'xstart': 3962.6089088344856, 'ystart': 280.0, 'xend': 4644.942505827589, 'yend': 280.0, 'mustart': 3.1640676724137946, 'muend': 3.506599137931036}\n",
      "0.01 F356W A R +1\n",
      "{'xstart': 721.9362554283043, 'ystart': 280.0, 'xend': 1722.434262988682, 'yend': 280.0, 'mustart': 3.0745000000000022, 'muend': 4.079000000000002}\n",
      "0.01 F356W A R +2\n",
      "{'xstart': 3858.0051870490593, 'ystart': 280.0, 'xend': 4801.87123206038, 'yend': 280.0, 'mustart': 3.111556603773586, 'muend': 3.5853773584905673}\n",
      "0.01 F360M A R +1\n",
      "{'xstart': 345.92430319047867, 'ystart': 280.0, 'xend': 919.131474650796, 'yend': 280.0, 'mustart': 3.3285000000000022, 'muend': 3.904000000000002}\n",
      "0.01 F360M A R +2\n",
      "{'xstart': 3839.734774959525, 'ystart': 280.0, 'xend': 4167.281729949207, 'yend': 280.0, 'mustart': 3.418142857142858, 'muend': 3.582571428571429}\n",
      "0.01 F410M A R +1\n",
      "{'xstart': 790.6454184191207, 'ystart': 280.0, 'xend': 1417.1394426441202, 'yend': 280.0, 'mustart': 3.775000000000003, 'muend': 4.404000000000003}\n",
      "0.01 F410M A R +2\n",
      "{'xstart': 5403.041422044118, 'ystart': 280.0, 'xend': 5549.5304659941185, 'yend': 280.0, 'mustart': 4.202922794117647, 'muend': 4.276460294117648}\n",
      "0.01 F430M A R +1\n",
      "{'xstart': 1136.2629482457173, 'ystart': 280.0, 'xend': 1457.9760959428606, 'yend': 280.0, 'mustart': 4.122000000000003, 'muend': 4.445000000000004}\n",
      "0.01 F430M A R +2\n",
      "{'xstart': 5410.84462102286, 'ystart': 280.0, 'xend': 5777.597609471432, 'yend': 280.0, 'mustart': 4.206840000000002, 'muend': 4.390950000000002}\n",
      "0.01 F444W A R +1\n",
      "{'xstart': 818.0358569361342, 'ystart': 280.0, 'xend': 2130.2868532700754, 'yend': 280.0, 'mustart': 3.802500000000003, 'muend': 5.120000000000003}\n",
      "0.01 F444W A R +2\n",
      "{'xstart': 5437.386918978105, 'ystart': 280.0, 'xend': 7065.727571321171, 'yend': 280.0, 'mustart': 4.220164233576645, 'muend': 5.037591240875914}\n",
      "0.01 F460M A R +1\n",
      "{'xstart': 1477.398406084214, 'ystart': 280.0, 'xend': 1826.0039839789506, 'yend': 280.0, 'mustart': 4.464500000000004, 'muend': 4.814500000000003}\n",
      "0.01 F460M A R +2\n",
      "{'xstart': 6033.713933747374, 'ystart': 280.0, 'xend': 6491.488100063162, 'yend': 280.0, 'mustart': 4.519520394736844, 'muend': 4.749323026315792}\n",
      "0.01 F480M A R +1\n",
      "{'xstart': 1593.4342632943433, 'ystart': 280.0, 'xend': 2095.9243029301915, 'yend': 280.0, 'mustart': 4.581000000000004, 'muend': 5.085500000000003}\n",
      "0.01 F480M A R +2\n",
      "{'xstart': 6308.517326781137, 'ystart': 280.0, 'xend': 6991.1453053339665, 'yend': 280.0, 'mustart': 4.65747169811321, 'muend': 5.000150943396228}\n"
     ]
    }
   ],
   "source": [
    "positions = {}\n",
    "configs = {}\n",
    "\n",
    "\n",
    "for (ext,fac),filt,orient,module, order in product(zip(exts,facs),filters,orients,modules,orders):\n",
    "\n",
    "    pos = {}\n",
    "    C = grismconf.Config(datadir+'/NIRCAM_{}_mod{}_{}.conf'.format(filt,module,orient))\n",
    "\n",
    "    x,y = xys[filt]\n",
    "\n",
    "    tmin = C.INVDISPL(\"+1\",100,100,ext[filt][0])\n",
    "    tmax = C.INVDISPL(\"+1\",100,100,ext[filt][1])\n",
    "\n",
    "    \n",
    "    dx0 = C.DISPX(order,x,y,tmin)\n",
    "    dx1 = C.DISPX(order,x,y,tmax)\n",
    "    dy0 = C.DISPY(order,x,y,tmin)\n",
    "    dy1 = C.DISPY(order,x,y,tmax)\n",
    "\n",
    "    mu0 = C.DISPL(order,x,y,tmin)\n",
    "    mu1 = C.DISPL(order,x,y,tmax)\n",
    "\n",
    "    \n",
    "    pos['xstart'] = x+dx0\n",
    "    pos['ystart'] = y+dy0\n",
    "    pos['xend'] = x+dx1\n",
    "    pos['yend'] = y+dy1\n",
    "    pos['mustart'] = mu0\n",
    "    pos['muend'] = mu1\n",
    "\n",
    "    print(fac,filt,module,orient,order)\n",
    "    print(pos)\n",
    "\n",
    "    key = '{}_{}_{}_{}_{}'.format(fac,filt,module,orient,order)\n",
    "    positions[key] = pos\n",
    "    configs[key] = C"
   ]
  },
  {
   "cell_type": "code",
   "execution_count": 6,
   "metadata": {},
   "outputs": [
    {
     "name": "stdout",
     "output_type": "stream",
     "text": [
      "0.9221664228743364\n",
      "4.983841459443186\n",
      "0.5015147479133244\n"
     ]
    }
   ],
   "source": [
    "fac,filt,module,orient,order = facs[0],\"F444W\",\"A\",\"R\",\"+2\"\n",
    "\n",
    "key = '{}_{}_{}_{}_{}'.format(fac,filt,module,orient,order)\n",
    "C = configs[key]\n",
    "\n",
    "ts = C.INVDISPX(\"+1\",952,100,2044-952)\n",
    "wave = C.DISPL(order,952,100,ts)\n",
    "\n",
    "print(ts)\n",
    "print(wave)\n",
    "\n",
    "\n",
    "fname = 'NIRCam.{}.{}.{}.{}.sensitivity.fits'.format(filt,orient,module,'1st')\n",
    "\n",
    "\n",
    "h = fits.open(datadir+fname)\n",
    "imax = np.argmax(h[1].data['SENSITIVITY'])\n",
    "BM = h[1].data['WAVELENGTH'] >= wave\n",
    "\n",
    "print(h[1].data['SENSITIVITY'][np.nonzero(BM)[0][0]]/h[1].data['SENSITIVITY'][imax])\n",
    "      \n",
    "      "
   ]
  },
  {
   "cell_type": "code",
   "execution_count": 7,
   "metadata": {},
   "outputs": [],
   "source": [
    "### Function to make the top axis (micron) relate to the botoom one (pixels)\n",
    "\n",
    "def pixtomu(dxvals,x0,y0,C,order):\n",
    "    \n",
    "    ts = C.INVDISPX(order,x0,y0,dxvals)\n",
    "    # Compute wavelength of each of the pixels\n",
    "    wavs = C.DISPL(order,x0,y0,ts)\n",
    "\n",
    "    return np.array(wavs)\n",
    "\n",
    "def mutopix(muvals,x0,y0,C,order):\n",
    "    ts = C.INVDISPL(order,x0,y0,muvals)\n",
    "\n",
    "    dxs = C.DISPX(order,x0,y0,ts)\n",
    "\n",
    "    return x0+np.array(dxs)\n"
   ]
  },
  {
   "cell_type": "code",
   "execution_count": 8,
   "metadata": {},
   "outputs": [],
   "source": [
    "plt.style.use('bmh')\n",
    "plt.rcParams['font.family'] = 'Times New Roman'\n",
    "plt.rcParams['font.size'] = 18\n",
    "plt.rcParams['axes.labelsize'] = 18\n",
    "plt.rcParams['axes.labelweight'] = 'normal'\n",
    "plt.rcParams['xtick.labelsize'] = 16\n",
    "plt.rcParams['ytick.labelsize'] = 16\n",
    "plt.rcParams['legend.fontsize'] = 12\n",
    "plt.rcParams['figure.titlesize'] = 16"
   ]
  },
  {
   "cell_type": "markdown",
   "metadata": {},
   "source": [
    "#### Generate figure for 6 filters at one reference position"
   ]
  },
  {
   "cell_type": "code",
   "execution_count": 10,
   "metadata": {
    "scrolled": false
   },
   "outputs": [
    {
     "data": {
      "image/png": "[encoded data removed]",
      "text/plain": [
       "<Figure size 864x789.041 with 2 Axes>"
      ]
     },
     "metadata": {
      "needs_background": "light"
     },
     "output_type": "display_data"
    }
   ],
   "source": [
    "aspectratio =1.095\n",
    "figside = 12\n",
    "\n",
    "f, ax = plt.subplots(1,figsize=(figside, figside/aspectratio))\n",
    "ax2 = ax.twiny()\n",
    "\n",
    "pixvals = np.array([0,2048])\n",
    "muvals = np.arange(2.,5.01,0.5)\n",
    "\n",
    "fac,filt,module,orient,order = facs[0],\"F277W\",\"A\",\"R\",\"+1\"\n",
    "\n",
    "key = '{}_{}_{}_{}_{}'.format(fac,filt,module,orient,order)\n",
    "C = configs[key]\n",
    "x,y = xys[filt]\n",
    "\n",
    "ax2.set_xticks(muvals)\n",
    "ax2.set_xlim(1.95,5.4)\n",
    "ax.set_xlim(mutopix(ax2.get_xlim(),x,y,C,order))\n",
    "\n",
    "xlims = ax.get_xlim()\n",
    "xsize = xlims[1]-xlims[0]\n",
    "# ax.set_ylim(0,xsize/aspectratio)\n",
    "\n",
    "for j,filt in enumerate(filters[:6]):\n",
    "    for orient,module, order in product(orients,modules,orders):\n",
    "        for k,fac in enumerate(facs):\n",
    "        \n",
    "            key = '{}_{}_{}_{}_{}'.format(fac,filt,module,orient,order)\n",
    "            pos = positions[key] \n",
    "            x,y = xys[filt]\n",
    "\n",
    "            yref = j*500+150\n",
    "            dy = 256\n",
    "\n",
    "            ax.plot(x, yref+dy/2, 'kx',ms=15)\n",
    "            if order == '+2':\n",
    "                ax.plot([pos['xstart'],pos['xend']],[yref+dy/2,yref+dy/2], 'grey', lw=7/(1+k)) \n",
    "            else:\n",
    "                ax.plot([pos['xstart'],pos['xend']],[yref+dy/2,yref+dy/2], 'k', lw=7/(1+k)) \n",
    "            ax.add_patch(patches.Rectangle((4, yref),2044, dy,fill=False,color='red',lw=4))\n",
    "            ax2.text(1.99,yref+dy/2, filt, va='center', fontsize=18)\n",
    "            \n",
    "\n",
    "ax.set_xlabel('Science pixels',fontsize=18)            \n",
    "ax2.set_xlabel('Wavelength [$\\mu$m]',fontsize=18)            \n",
    "ax.axvline(x,linestyle=':',color='black')\n",
    "ax.set_xticks(np.append(x,pixvals))\n",
    "ax.set_facecolor('#FFFFFF')\n",
    "ax2.set_facecolor('#FFFFFF')\n",
    "ax.grid(False)\n",
    "ax2.grid(False)\n",
    "\n",
    "ax.axes.get_yaxis().set_visible(False)\n",
    "f.tight_layout()\n",
    "# # f.savefig(\"img1.png\")"
   ]
  },
  {
   "cell_type": "markdown",
   "metadata": {},
   "source": [
    "#### Generate figure for other 6 filters at the other reference position"
   ]
  },
  {
   "cell_type": "code",
   "execution_count": 11,
   "metadata": {},
   "outputs": [
    {
     "data": {
      "image/png": "[encoded data removed]",
      "text/plain": [
       "<Figure size 864x789.041 with 2 Axes>"
      ]
     },
     "metadata": {
      "needs_background": "light"
     },
     "output_type": "display_data"
    }
   ],
   "source": [
    "aspectratio = 1.095\n",
    "figside = 12\n",
    "\n",
    "f, ax = plt.subplots(1,figsize=(figside, figside/aspectratio))\n",
    "ax2 = ax.twiny()\n",
    "\n",
    "pixvals = np.array([0,2048])\n",
    "muvals = np.arange(2.,5.01,0.5)\n",
    "\n",
    "filt,module,orient,order = \"F444W\",\"A\",\"R\",\"+1\"\n",
    "\n",
    "key = '{}_{}_{}_{}_{}'.format(fac,filt,module,orient,order)\n",
    "C = configs[key]\n",
    "x,y = xys[filt]\n",
    "\n",
    "ax2.set_xticks(muvals)\n",
    "ax2.set_xlim(1.95,5.4)\n",
    "ax.set_xlim(mutopix(ax2.get_xlim(),x,y,C,order))\n",
    "\n",
    "xlims = ax.get_xlim()\n",
    "xsize = xlims[1]-xlims[0]\n",
    "# ax.set_ylim(150,xsize/aspectratio)\n",
    "\n",
    "for j,filt in enumerate(filters[6:]):\n",
    "    for orient,module, order in product(orients,modules,orders):\n",
    "        for k,fac in enumerate(facs):\n",
    "        \n",
    "            key = '{}_{}_{}_{}_{}'.format(fac,filt,module,orient,order)\n",
    "            pos = positions[key] \n",
    "            x,y = xys[filt]\n",
    "\n",
    "            yref = j*500+500\n",
    "            \n",
    "            dy = 256\n",
    "\n",
    "            ax.plot(x, yref+dy/2, 'kx',ms=15)\n",
    "\n",
    "            ax.plot([pos['xstart'],pos['xend']],[yref+dy/2,yref+dy/2], 'k', lw=7/(1+k)) \n",
    "\n",
    "            ax.add_patch(patches.Rectangle((4, yref),2044, dy,fill=False,color='red',lw=4))\n",
    "            ax2.text(2.2,yref+dy/2, filt, va='center', fontsize=18)\n",
    "\n",
    "ax.axvline(x,linestyle=':',color='black')\n",
    "ax.set_xticks(np.append(x,pixvals))\n",
    "\n",
    "ax.set_xlabel('Science pixels',fontsize=18)            \n",
    "ax2.set_xlabel('Wavelength [$\\mu$m]',fontsize=18)            \n",
    "ax.axvline(x,linestyle=':',color='black')\n",
    "ax.set_xticks(np.append(x,pixvals))\n",
    "ax.set_facecolor('#FFFFFF')\n",
    "ax2.set_facecolor('#FFFFFF')\n",
    "ax.grid(False)\n",
    "ax2.grid(False)\n",
    "\n",
    "ax.axes.get_yaxis().set_visible(False)\n",
    "f.tight_layout()\n",
    "# f.savefig(\"img1.png\")"
   ]
  },
  {
   "cell_type": "markdown",
   "metadata": {},
   "source": [
    "## Issues"
   ]
  },
  {
   "cell_type": "markdown",
   "metadata": {},
   "source": [
    "* Need to add data to the Box directory (https://stsci.box.com/s/wu9mo54vi957x50rdirlcg9zkkr3xiaw)"
   ]
  },
  {
   "cell_type": "markdown",
   "metadata": {},
   "source": [
    "## About this Notebook\n",
    "**Authors:**   \n",
    "* Mario Gennaro\n",
    "* Dan Coe\n",
    "* Alicia Canipe\n",
    "\n",
    "**Updated On:**   \n",
    "December 30, 2019"
   ]
  },
  {
   "cell_type": "code",
   "execution_count": null,
   "metadata": {},
   "outputs": [],
   "source": []
  }
 ],
 "metadata": {
  "kernelspec": {
   "display_name": "Python 3",
   "language": "python",
   "name": "python3"
  },
  "language_info": {
   "codemirror_mode": {
    "name": "ipython",
    "version": 3
   },
   "file_extension": ".py",
   "mimetype": "text/x-python",
   "name": "python",
   "nbconvert_exporter": "python",
   "pygments_lexer": "ipython3",
   "version": "3.6.7"
  }
 },
 "nbformat": 4,
 "nbformat_minor": 1
}
