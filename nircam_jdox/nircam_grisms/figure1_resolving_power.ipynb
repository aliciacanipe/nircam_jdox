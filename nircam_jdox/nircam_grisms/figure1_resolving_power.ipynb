{
 "cells": [
  {
   "cell_type": "markdown",
   "metadata": {},
   "source": [
    "# Figure 1: Grism Spectral Resolution vs Wavelength"
   ]
  },
  {
   "cell_type": "markdown",
   "metadata": {},
   "source": [
    "***\n",
    "### Table of Contents\n",
    "\n",
    "1. [Information](#Information)\n",
    "2. [Imports](#Imports)\n",
    "3. [Data](#Data)\n",
    "4. [Generate the Resolution vs Wavelength Plot with Equation](#Generate-the-Resolution-vs-Wavelength-Plot-with-Equation)\n",
    "5. [Generate the Resolution vs Wavelength Plot with Filters](#Generate-the-Resolution-vs-Wavelength-Plot-with-Filters)\n",
    "6. [Issues](#Issues)\n",
    "7. [About this Notebook](#About-this-Notebook)\n",
    "***"
   ]
  },
  {
   "cell_type": "markdown",
   "metadata": {},
   "source": [
    "## Information"
   ]
  },
  {
   "cell_type": "markdown",
   "metadata": {},
   "source": [
    "#### JDox links: \n",
    "* [NIRCam Grisms](https://jwst-docs.stsci.edu/display/JTI/NIRCam+Grisms#NIRCamGrisms-Resolvingpower)\n",
    "    * NIRCam grism spectral resolution versus wavelength"
   ]
  },
  {
   "cell_type": "markdown",
   "metadata": {},
   "source": [
    "## Imports"
   ]
  },
  {
   "cell_type": "code",
   "execution_count": null,
   "metadata": {},
   "outputs": [],
   "source": [
    "import numpy as np\n",
    "from astropy.io import ascii\n",
    "from astropy.table import Table\n",
    "import matplotlib.pyplot as plt\n",
    "%matplotlib inline"
   ]
  },
  {
   "cell_type": "markdown",
   "metadata": {},
   "source": [
    "## Data"
   ]
  },
  {
   "cell_type": "markdown",
   "metadata": {},
   "source": [
    "#### Data Location: \n",
    "In notebook, originally from Tom Greene at UAz"
   ]
  },
  {
   "cell_type": "code",
   "execution_count": null,
   "metadata": {},
   "outputs": [],
   "source": [
    "# resolving power vs. wavelength values\n",
    "F322W2_x = [2.50,2.60,2.70,2.80,2.90,3.00,3.10,3.20,3.30,3.40,3.50,3.60,3.70,3.80,3.90,4.00]\n",
    "F322W2_y = [1171.45,1214.66,1256.08,1295.58,1333.11,1368.59,1401.98,1433.26,1462.43,1489.47,1514.43,1537.34,1558.25,1577.20,1594.28,1609.55]\n",
    "F444W_x = [3.90,4.00,4.10,4.20,4.30,4.40,4.50,4.60,4.70,4.80,4.90,5.00]\n",
    "F444W_y = [1594.28,1609.55,1623.09,1634.99,1645.32,1654.18,1661.66,1667.84,1672.81,1676.66,1679.46,1681.30]\n",
    "F410M_x = [3.90,3.95,4.00,4.05,4.10,4.15,4.20,4.25,4.30]\n",
    "F410M_y = [1593.32,1601.23,1608.71,1615.79,1622.46,1628.73,1634.61,1640.12,1645.26]\n",
    "F430M_x = [4.20,4.25,4.30,4.35,4.40]\n",
    "F430M_y = [1634.61,1640.12,1645.26,1650.04,1654.47]"
   ]
  },
  {
   "cell_type": "code",
   "execution_count": null,
   "metadata": {},
   "outputs": [],
   "source": [
    "# Equation\n",
    "x = np.arange(2.5,5.1,0.1)\n",
    "R = 3.35*(x)**4-41.9*(x)**3+95.5*(x)**2+536*(x)-240"
   ]
  },
  {
   "cell_type": "markdown",
   "metadata": {},
   "source": [
    "## Generate the Resolution vs Wavelength Plot with Equation"
   ]
  },
  {
   "cell_type": "code",
   "execution_count": null,
   "metadata": {},
   "outputs": [],
   "source": [
    "f, ax1 = plt.subplots(1, sharex=True,figsize=(12, 9))\n",
    "\n",
    "ax1.plot(x,R,lw=1.5,color='blue')\n",
    "ax1.set_xlim(2.25,5.1)\n",
    "ax1.tick_params(labelsize=20)\n",
    "ax1.tick_params(axis='both', right='off', top='False')\n",
    "ax1.tick_params('y', length=10, width=2, which='major')\n",
    "ax1.tick_params('x', length=10, width=2, which='major')\n",
    "f.text(0.5, 0.92, '\\nNIRCam Grism Point Source Resolving Power', ha='center', fontsize=20)\n",
    "f.text(0.5, 0.04, 'Wavelength ($\\mu$m)', ha='center', fontsize=20)\n",
    "f.text(0.02, 0.5, '$R\\equiv\\lambda/\\Delta\\lambda$', va='center', rotation='vertical', fontsize=24)"
   ]
  },
  {
   "cell_type": "markdown",
   "metadata": {},
   "source": [
    "## Generate the Resolution vs Wavelength Plot with Filters"
   ]
  },
  {
   "cell_type": "code",
   "execution_count": null,
   "metadata": {},
   "outputs": [],
   "source": [
    "f, ax1 = plt.subplots(1, sharex=True,figsize=(12, 9))\n",
    "ax1.scatter(x,R,marker='o',s=28,color='black',label='Equation')\n",
    "ax1.plot(F322W2_x, F322W2_y, lw=3, label='F322W2 + GRISMR (modA)',color='blue',alpha=0.7)\n",
    "ax1.plot(F444W_x, F444W_y, lw=3, label='F444W + GRISMR (modA)',color='purple',alpha=0.7)\n",
    "ax1.plot(F410M_x, F410M_y, lw=3, label='F410M + GRISMR (modA)',color='green',alpha=0.7)\n",
    "ax1.plot(F430M_x, F430M_y, lw=3, label='F430M + GRISMR (modA)',color='red',alpha=0.7)\n",
    "\n",
    "ax1.set_xlim(2.25,5.1)\n",
    "ax1.set_ylim(1100,1700)\n",
    "ax1.tick_params(labelsize=20)\n",
    "ax1.tick_params(axis='both', right='off', top='off')\n",
    "ax1.tick_params('y', length=10, width=2, which='major')\n",
    "ax1.tick_params('x', length=10, width=2, which='major')\n",
    "ax1.legend(loc='best', fontsize=16)\n",
    "f.text(0.5, 0.92, '\\nNIRCam Grism Point Source Resolving Power', ha='center', fontsize=20)\n",
    "f.text(0.5, 0.04, 'Wavelength ($\\mu$m)', ha='center', fontsize=20)\n",
    "f.text(0.02, 0.5, '$R\\equiv\\lambda/\\Delta\\lambda$', va='center', rotation='vertical', fontsize=24)"
   ]
  },
  {
   "cell_type": "markdown",
   "metadata": {},
   "source": [
    "| wavelength | F322W2  | F444W   | F430M   | F410M   | Equation |\n",
    "|------------|---------|---------|---------|---------|----------|\n",
    "| 2.50       | 1171.45 |         |         |         | 1173.05  |\n",
    "| 2.60       | 1214.66 |         |         |         | 1215.83  |\n",
    "| 2.70       | 1256.08 |         |         |         | 1256.71  |\n",
    "| 2.80       | 1295.58 |         |         |         | 1295.64  |\n",
    "| 2.90       | 1333.11 |         |         |         | 1332.60  |\n",
    "| 3.00       | 1368.59 |         |         |         | 1367.55  |\n",
    "| 3.10       | 1401.98 |         |         |         | 1400.49  |\n",
    "| 3.20       | 1433.26 |         |         |         | 1431.41  |\n",
    "| 3.30       | 1462.43 |         |         |         | 1460.32  |\n",
    "| 3.40       | 1489.47 |         |         |         | 1487.21  |\n",
    "| 3.50       | 1514.43 |         |         |         | 1512.12  |\n",
    "| 3.60       | 1537.34 |         |         |         | 1535.06  |\n",
    "| 3.70       | 1558.25 |         |         |         | 1556.08  |\n",
    "| 3.80       | 1577.20 |         |         |         | 1575.20  |\n",
    "| 3.90       | 1594.28 | 1594.28 |         | 1593.32 | 1592.49  |\n",
    "| 4.00       | 1609.55 | 1609.55 |         | 1608.71 | 1608.00  |\n",
    "| 4.10       |         | 1623.09 |         | 1622.46 | 1621.80  |\n",
    "| 4.20       |         | 1634.99 | 1634.61 | 1634.61 | 1633.95  |\n",
    "| 4.30       |         | 1645.32 | 1645.26 | 1645.26 | 1644.55  |\n",
    "| 4.40       |         | 1654.18 | 1654.47 |         | 1653.68  |\n",
    "| 4.50       |         | 1661.66 |         |         | 1661.45  |\n",
    "| 4.60       |         | 1667.84 |         |         | 1667.95  |\n",
    "| 4.70       |         | 1672.81 |         |         | 1673.30  |\n",
    "| 4.80       |         | 1676.66 |         |         | 1677.63  |\n",
    "| 4.90       |         | 1679.46 |         |         | 1681.07  |\n",
    "| 5.00       |         | 1681.30 |         |         | 1683.75  |"
   ]
  },
  {
   "cell_type": "markdown",
   "metadata": {},
   "source": [
    "## Issues"
   ]
  },
  {
   "cell_type": "markdown",
   "metadata": {},
   "source": [
    "* None"
   ]
  },
  {
   "cell_type": "markdown",
   "metadata": {},
   "source": [
    "## About this Notebook\n",
    "**Authors:**   \n",
    "Alicia Canipe & Dan Coe \n",
    "\n",
    "**Updated On:**   \n",
    "April 05, 2019"
   ]
  },
  {
   "cell_type": "code",
   "execution_count": null,
   "metadata": {},
   "outputs": [],
   "source": []
  }
 ],
 "metadata": {
  "kernelspec": {
   "display_name": "Python 3",
   "language": "python",
   "name": "python3"
  },
  "language_info": {
   "codemirror_mode": {
    "name": "ipython",
    "version": 3
   },
   "file_extension": ".py",
   "mimetype": "text/x-python",
   "name": "python",
   "nbconvert_exporter": "python",
   "pygments_lexer": "ipython3",
   "version": "3.5.5"
  }
 },
 "nbformat": 4,
 "nbformat_minor": 1
}
