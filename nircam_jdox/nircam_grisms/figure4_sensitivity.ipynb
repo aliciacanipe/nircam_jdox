{
 "cells": [
  {
   "cell_type": "markdown",
   "metadata": {},
   "source": [
    "# Figure 4: NIRCam Grism + Filter Sensitivities ($1^{st}$ order)"
   ]
  },
  {
   "cell_type": "markdown",
   "metadata": {},
   "source": [
    "***\n",
    "### Table of Contents\n",
    "\n",
    "1. [Information](#Information)\n",
    "2. [Imports](#Imports)\n",
    "3. [Data](#Data)\n",
    "4. [Generate the First Order Grism + Filter Sensitivity Plot](#Generate-the-First-Order-Grism-+-Filter-Sensitivity-Plot)\n",
    "5. [Issues](#Issues)\n",
    "6. [About this Notebook](#About-this-Notebook)\n",
    "***"
   ]
  },
  {
   "cell_type": "markdown",
   "metadata": {},
   "source": [
    "## Information"
   ]
  },
  {
   "cell_type": "markdown",
   "metadata": {},
   "source": [
    "#### JDox links: \n",
    "* [NIRCam Grisms](https://jwst-docs.stsci.edu/display/JTI/NIRCam+Grisms#NIRCamGrisms-Sensitivity)\n",
    "    * Figure 4. NIRCam grism + filter sensitivities ($1^{st}$ order)"
   ]
  },
  {
   "cell_type": "markdown",
   "metadata": {},
   "source": [
    "## Imports"
   ]
  },
  {
   "cell_type": "code",
   "execution_count": null,
   "metadata": {},
   "outputs": [],
   "source": [
    "import os\n",
    "import pylab\n",
    "import numpy as np\n",
    "from astropy.io import ascii, fits\n",
    "from astropy.table import Table\n",
    "from scipy.optimize import fmin\n",
    "from scipy.interpolate import interp1d\n",
    "import matplotlib.pyplot as plt\n",
    "%matplotlib inline"
   ]
  },
  {
   "cell_type": "markdown",
   "metadata": {},
   "source": [
    "## Data"
   ]
  },
  {
   "cell_type": "markdown",
   "metadata": {},
   "source": [
    "#### Data Location: \n",
    "\n",
    "The data is stored in a NIRCam JDox Box folder here:\n",
    "[ST-INS-NIRCAM -> JDox -> nircam_grisms](https://stsci.box.com/s/wu9mo54vi957x50rdirlcg9zkkr3xiaw)"
   ]
  },
  {
   "cell_type": "markdown",
   "metadata": {},
   "source": [
    "#### Load the data\n",
    "\n",
    "(The next cell assumes you downloaded the data into your ```Users/$(logname)/``` home directory)"
   ]
  },
  {
   "cell_type": "code",
   "execution_count": null,
   "metadata": {},
   "outputs": [],
   "source": [
    "box_directory = \"/Users/\"+os.environ['LOGNAME']+\"/box_data/\"   \n",
    "box_directory"
   ]
  },
  {
   "cell_type": "code",
   "execution_count": null,
   "metadata": {},
   "outputs": [],
   "source": [
    "grism = \"R\"\n",
    "mod = \"A\"\n",
    "filters = [\"F250M\",\"F277W\",\"F300M\",\"F322W2\",\"F335M\",\"F356W\",\"F360M\",\"F410M\",\"F430M\",\"F444W\",\"F460M\",\"F480M\"]"
   ]
  },
  {
   "cell_type": "code",
   "execution_count": null,
   "metadata": {},
   "outputs": [],
   "source": [
    "filenames = []\n",
    "for fil in filters:\n",
    "    filenames.append(box_directory+\"NIRCam.%s.%s.%s.1st.sensitivity.fits\" % (fil,grism,mod))                  "
   ]
  },
  {
   "cell_type": "code",
   "execution_count": null,
   "metadata": {},
   "outputs": [],
   "source": [
    "filenames"
   ]
  },
  {
   "cell_type": "markdown",
   "metadata": {},
   "source": [
    "## Generate the First Order Grism + Filter Sensitivity Plot"
   ]
  },
  {
   "cell_type": "markdown",
   "metadata": {},
   "source": [
    "### Define some convenience functions"
   ]
  },
  {
   "cell_type": "code",
   "execution_count": null,
   "metadata": {},
   "outputs": [],
   "source": [
    "def find_nearest(array,value):\n",
    "    idx = (np.abs(array-value)).argmin()\n",
    "    return array[idx]\n",
    "\n",
    "\n",
    "def find_nearest(array,value):\n",
    "    idx = (np.abs(array-value)).argmin()\n",
    "    return array[idx]\n",
    "\n",
    "\n",
    "def find_mid(w,s,w0,thr=0.05):\n",
    "    fct = interp1d(w,s,bounds_error=None,fill_value='extrapolate')\n",
    "    def func(x):\n",
    "        #print \"x:\",x\n",
    "        return np.abs(fct(x)-thr)\n",
    "    \n",
    "    res = fmin(func,w0)\n",
    "    \n",
    "    return res[0]"
   ]
  },
  {
   "cell_type": "markdown",
   "metadata": {},
   "source": [
    "### Create the plots"
   ]
  },
  {
   "cell_type": "code",
   "execution_count": null,
   "metadata": {},
   "outputs": [],
   "source": [
    "f, ax1 = plt.subplots(1, figsize=(15, 10))\n",
    "\n",
    "NUM_COLORS = len(filters)\n",
    "\n",
    "cm = pylab.get_cmap('tab10')\n",
    "\n",
    "grism = \"R\"\n",
    "mod = \"A\"\n",
    "for i,fname in zip(range(NUM_COLORS),filenames):\n",
    "    color = cm(1.*i/NUM_COLORS)\n",
    "    d = fits.open(fname)\n",
    "    w = d[1].data[\"WAVELENGTH\"]\n",
    "    s = d[1].data[\"SENSITIVITY\"]/(1e17)\n",
    "    ax1.plot(w,s,label=fil,lw=4,color=color)\n",
    "    \n",
    "ax1.legend(fontsize=16)\n",
    "miny,maxy = ax1.get_ylim()\n",
    "minx,maxx = ax1.get_xlim()\n",
    "\n",
    "ax1.set_ylim(miny,2.15)\n",
    "ax1.set_xlim(2.1,maxx)\n",
    "ax1.tick_params(labelsize=18)\n",
    "f.text(0.5, 0.04, 'Wavelength ($\\mu m$)', ha='center', fontsize=22)\n",
    "f.text(0.03, 0.5, 'Sensitivity  ('+r'$1 \\times 10^{17}\\ \\frac{e^{-} s^{-1}}{erg s^{-1} cm^{-2} A^{-1}}$'+')', va='center', rotation='vertical', fontsize=22)"
   ]
  },
  {
   "cell_type": "markdown",
   "metadata": {},
   "source": [
    "### Figure option 2: filter name positions"
   ]
  },
  {
   "cell_type": "code",
   "execution_count": null,
   "metadata": {
    "scrolled": false
   },
   "outputs": [],
   "source": [
    "f, ax1 = plt.subplots(1, figsize=(15, 10))\n",
    "\n",
    "thr = 0.05 # 5% of peak boundaries\n",
    "\n",
    "NUM_COLORS = len(filters)\n",
    "\n",
    "cm = pylab.get_cmap('tab10')\n",
    "\n",
    "for i,fil,fname in zip(range(NUM_COLORS),filters,filenames):\n",
    "    color = cm(1.*i/NUM_COLORS)\n",
    "    d = fits.open(fname)\n",
    "    w = d[1].data[\"WAVELENGTH\"]\n",
    "    s = d[1].data[\"SENSITIVITY\"]/(1e17)\n",
    "\n",
    "    wmin,wmax = np.min(w),np.max(w)\n",
    "    vg = w<(wmax+wmin)/2.\n",
    "    w1 = find_mid(w[vg],s[vg],wmin,thr)\n",
    "    \n",
    "    vg = w>(wmax+wmin)/2.\n",
    "    w2 =  find_mid(w[vg],s[vg],wmax,thr)    \n",
    "    \n",
    "    if fil == 'F356W':\n",
    "        ax1.text((w2+w1)/2 -0.04, s[np.where(w == find_nearest(w, (w2+w1)/2))]+0.25, fil, ha='center',color=color,fontsize=16,weight='bold')\n",
    "    elif fil == 'F335M':\n",
    "        ax1.text((w2+w1)/2 -0.03, s[np.where(w == find_nearest(w, (w2+w1)/2))]+0.22, fil, ha='center',color=color,fontsize=16,weight='bold')        \n",
    "    elif fil == 'F460M':\n",
    "        ax1.text((w2+w1)/2+0.15, s[np.where(w == find_nearest(w, (w2+w1)/2))]+0.12, fil, ha='center',color=color,fontsize=16,weight='bold')        \n",
    "    elif fil == 'F480M':\n",
    "        ax1.text((w2+w1)/2+0.15, s[np.where(w == find_nearest(w, (w2+w1)/2))]+0.1, fil, ha='center',color=color,fontsize=16,weight='bold')\n",
    "    else:\n",
    "        ax1.text((w2+w1)/2 -0.04, s[np.where(w == find_nearest(w, (w2+w1)/2))]+0.2, fil, ha='center',color=color,fontsize=16,weight='bold')        \n",
    "    ax1.plot(w,s,label=fil,lw=4,color=color)\n",
    "    \n",
    "\n",
    "miny,maxy = ax1.get_ylim()\n",
    "minx,maxx = ax1.get_xlim()\n",
    "\n",
    "ax1.set_ylim(miny,2.15)\n",
    "ax1.set_xlim(2.1,maxx)\n",
    "ax1.tick_params(labelsize=18)\n",
    "f.text(0.5, 0.04, 'Wavelength ($\\mu m$)', ha='center', fontsize=22)\n",
    "f.text(0.03, 0.5, 'Sensitivity  ('+r'$1 \\times 10^{17}\\ \\frac{e^{-} s^{-1}}{erg\\ s^{-1} cm^{-2} A^{-1}}$'+')', va='center', rotation='vertical', fontsize=22)"
   ]
  },
  {
   "cell_type": "markdown",
   "metadata": {},
   "source": [
    "## Issues"
   ]
  },
  {
   "cell_type": "markdown",
   "metadata": {},
   "source": [
    "* None"
   ]
  },
  {
   "cell_type": "markdown",
   "metadata": {},
   "source": [
    "## About this Notebook\n",
    "**Authors:**   \n",
    "Nor Pirzkal & Alicia Canipe\n",
    "\n",
    "**Updated On:**   \n",
    "April 10, 2019"
   ]
  },
  {
   "cell_type": "code",
   "execution_count": null,
   "metadata": {},
   "outputs": [],
   "source": []
  }
 ],
 "metadata": {
  "kernelspec": {
   "display_name": "Python 3",
   "language": "python",
   "name": "python3"
  },
  "language_info": {
   "codemirror_mode": {
    "name": "ipython",
    "version": 3
   },
   "file_extension": ".py",
   "mimetype": "text/x-python",
   "name": "python",
   "nbconvert_exporter": "python",
   "pygments_lexer": "ipython3",
   "version": "3.5.5"
  }
 },
 "nbformat": 4,
 "nbformat_minor": 1
}
