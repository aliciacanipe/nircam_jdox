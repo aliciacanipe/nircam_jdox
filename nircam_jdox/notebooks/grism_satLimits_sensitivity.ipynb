{
 "cells": [
  {
   "cell_type": "markdown",
   "metadata": {},
   "source": [
    "# Grism Saturation Limits, Continuum Sensitivity, and Line Sensitivity"
   ]
  },
  {
   "cell_type": "markdown",
   "metadata": {},
   "source": [
    "***\n",
    "### Table of Contents\n",
    "\n",
    "1. [Information](#Information)\n",
    "2. [Imports](#Imports)\n",
    "3. [Data](#Data)\n",
    "4. [Generate the Saturation Limits Plot](#Generate-the-Saturation-Limits-Plot)\n",
    "5. [Generate the Grism Continuum Sensitivity Plot](#Generate-the-Grism-Continuum-Sensitivity-Plot)\n",
    "6. [Generate the Grism Line Sensitivity Plot](#Generate-the-Grism-Line-Sensitivity-Plot)\n",
    "7. [Issues](#Issues)\n",
    "***"
   ]
  },
  {
   "cell_type": "markdown",
   "metadata": {},
   "source": [
    "## Information"
   ]
  },
  {
   "cell_type": "markdown",
   "metadata": {},
   "source": [
    "#### JDox links: \n",
    "* [NIRCam Grism Time Series](https://jwst-docs.stsci.edu/display/JTI/NIRCam+Grism+Time+Series#NIRCamGrismTimeSeries-Saturationlimits)\n",
    "    * Figure 5: Grism saturation limits in the 2048 × 64 pixel subarray\n",
    "* [NIRCam+Sensitivity](https://jwst-docs.stsci.edu/display/JTI/NIRCam+Sensitivity#NIRCamSensitivity-Grism)\n",
    "    * Figure 2: Expected NIRCam grism line and continuum sensitivities in modules A and B\n",
    "\n",
    "#### Figure Author: Alicia Canipe, Dan Coe\n",
    "#### Data Location: in notebook"
   ]
  },
  {
   "cell_type": "markdown",
   "metadata": {},
   "source": [
    "## Imports"
   ]
  },
  {
   "cell_type": "code",
   "execution_count": null,
   "metadata": {},
   "outputs": [],
   "source": [
    "from astropy.io import ascii\n",
    "from astropy.table import Table\n",
    "import matplotlib.pyplot as plt"
   ]
  },
  {
   "cell_type": "markdown",
   "metadata": {},
   "source": [
    "## Data"
   ]
  },
  {
   "cell_type": "markdown",
   "metadata": {},
   "source": [
    "<div class=\"alert alert-block alert-warning\">\n",
    "<b>Note:</b> We need to decide on a way of versioning the data used for JDox plots. Right now I will hardcode this path until we figure out what to do. \n",
    "</div>\n",
    "\n"
   ]
  },
  {
   "cell_type": "code",
   "execution_count": null,
   "metadata": {},
   "outputs": [],
   "source": [
    "module_a_lw = Table.read('/ifs/jwst/wit/witserv/data7/nrc/JDoxPlots/moda_lw_grism.txt',format='ascii')\n",
    "module_b_lw = Table.read('/ifs/jwst/wit/witserv/data7/nrc/JDoxPlots/modb_lw_grism.txt',format='ascii')"
   ]
  },
  {
   "cell_type": "code",
   "execution_count": null,
   "metadata": {},
   "outputs": [],
   "source": [
    "module_b_lw"
   ]
  },
  {
   "cell_type": "markdown",
   "metadata": {},
   "source": [
    "## Generate the Saturation Limits Plot"
   ]
  },
  {
   "cell_type": "code",
   "execution_count": null,
   "metadata": {},
   "outputs": [],
   "source": [
    "f322w2 = module_a_lw['filter'] == 'F322W2'\n",
    "f444w = module_b_lw['filter'] == 'F444W'"
   ]
  },
  {
   "cell_type": "code",
   "execution_count": null,
   "metadata": {},
   "outputs": [],
   "source": [
    "f, ax1 = plt.subplots(1, sharex=True,figsize=(10, 10))\n",
    "\n",
    "ax1.plot(module_a_lw[f322w2]['wavelength (micrometer)'], module_a_lw[f322w2]['Ksat (AOV)'], lw=3, label='F322W2 + Grism (Mod A)',color='blue')\n",
    "ax1.plot(module_a_lw[f444w]['wavelength (micrometer)'], module_a_lw[f444w]['Ksat (AOV)'], lw=3, label='F444W + Grism (Mod A)',color='red')\n",
    "# ax1.plot(module_b_lw[f322w2]['wavelength (micrometer)'], module_b_lw[f322w2]['Ksat (AOV)'], lw=3, label='F322W2 + Grism (module_b_lw)',color='blue',linestyle='dashed')\n",
    "# ax1.plot(module_b_lw[f444w]['wavelength (micrometer)'], module_b_lw[f444w]['Ksat (AOV)'], lw=3, label='F444W + Grism (module_b_lw)',color='red',linestyle='dashed')\n",
    "\n",
    "ax1.set_ylim(ax1.get_ylim()[::-1])\n",
    "ax1.set_xlim(2.25,5.1)\n",
    "ax1.set_ylim(4.9,-0.1)\n",
    "ax1.tick_params(labelsize=20)\n",
    "ax1.tick_params(axis='both', right='off', top='off')\n",
    "ax1.tick_params('y', length=10, width=2, which='major')\n",
    "ax1.tick_params('x', length=10, width=2, which='major')\n",
    "\n",
    "ax1.legend(loc='best', fontsize=16)\n",
    "\n",
    "f.text(0.5, 0.04, 'wavelength (microns)', ha='center', fontsize=20)\n",
    "f.text(0.04, 0.5, 'K magnitude (Vega) A0V star', va='center', rotation='vertical', fontsize=20)"
   ]
  },
  {
   "cell_type": "markdown",
   "metadata": {},
   "source": [
    "## Generate the Grism Continuum Sensitivity Plot"
   ]
  },
  {
   "cell_type": "code",
   "execution_count": null,
   "metadata": {},
   "outputs": [],
   "source": [
    "f, ax1 = plt.subplots(1, sharex=True,figsize=(10, 10))\n",
    "\n",
    "ax1.plot(module_a_lw[f322w2]['wavelength (micrometer)'], module_a_lw[f322w2]['Fcont'], lw=3, label='F322W2 + Grism (Mod A)',color='blue')\n",
    "ax1.plot(module_a_lw[f444w]['wavelength (micrometer)'], module_a_lw[f444w]['Fcont'], lw=3, label='F444W + Grism (Mod A)',color='red')\n",
    "ax1.plot(module_b_lw[f322w2]['wavelength (micrometer)'], module_b_lw[f322w2]['Fcont'], lw=3, label='F322W2 + Grism (Mod B)',color='blue',linestyle='dashed')\n",
    "ax1.plot(module_b_lw[f444w]['wavelength (micrometer)'], module_b_lw[f444w]['Fcont'], lw=3, label='F444W + Grism (Mod B)',color='red',linestyle='dashed')\n",
    "\n",
    "# ax1.set_ylim(ax1.get_ylim()[::-1])\n",
    "ax1.set_xlim(2.25,5.1)\n",
    "ax1.set_ylim(3.8,18.2)\n",
    "ax1.tick_params(labelsize=20)\n",
    "ax1.tick_params(axis='both', right='off', top='off')\n",
    "ax1.tick_params('y', length=10, width=2, which='major')\n",
    "ax1.tick_params('x', length=10, width=2, which='major')\n",
    "\n",
    "ax1.legend(loc='best', fontsize=16)\n",
    "\n",
    "f.text(0.5, 0.92, '\\ngrism continuum sensitivity', ha='center', fontsize=20)\n",
    "f.text(0.5, 0.04, 'wavelength (microns)', ha='center', fontsize=20)\n",
    "f.text(0.03, 0.5, '10$\\sigma$ Sensitivity in $10^{4}$ s ($\\mu$Jy)', va='center', rotation='vertical', fontsize=20)"
   ]
  },
  {
   "cell_type": "markdown",
   "metadata": {},
   "source": [
    "## Generate the Grism Line Sensitivity Plot"
   ]
  },
  {
   "cell_type": "code",
   "execution_count": null,
   "metadata": {},
   "outputs": [],
   "source": [
    "f, ax1 = plt.subplots(1, sharex=True,figsize=(10, 10))\n",
    "\n",
    "ax1.plot(module_a_lw[f322w2]['wavelength (micrometer)'], module_a_lw[f322w2]['Fline']/10**-18, lw=3, label='F322W2 + Grism (Mod A)',color='blue')\n",
    "ax1.plot(module_a_lw[f444w]['wavelength (micrometer)'], module_a_lw[f444w]['Fline']/10**-18, lw=3, label='F444W + Grism (Mod A)',color='red')\n",
    "ax1.plot(module_b_lw[f322w2]['wavelength (micrometer)'], module_b_lw[f322w2]['Fline']/10**-18, lw=3, label='F322W2 + Grism (Mod B)',color='blue',linestyle='dashed')\n",
    "ax1.plot(module_b_lw[f444w]['wavelength (micrometer)'], module_b_lw[f444w]['Fline']/10**-18, lw=3, label='F444W + Grism (Mod B)',color='red',linestyle='dashed')\n",
    "\n",
    "# ax1.set_ylim(ax1.get_ylim()[::-1])\n",
    "ax1.set_xlim(2.25,5.1)\n",
    "ax1.set_ylim(1.8,12.2)\n",
    "ax1.tick_params(labelsize=20)\n",
    "ax1.tick_params(axis='both', right='off', top='off')\n",
    "ax1.tick_params('y', length=10, width=2, which='major')\n",
    "ax1.tick_params('x', length=10, width=2, which='major')\n",
    "\n",
    "ax1.legend(loc='best', fontsize=16)\n",
    "\n",
    "f.text(0.5, 0.92, '\\ngrism line sensitivity', ha='center', fontsize=20)\n",
    "f.text(0.5, 0.04, 'wavelength (microns)', ha='center', fontsize=20)\n",
    "f.text(0.03, 0.5, '10$\\sigma$ Sensitivity in $10^{4}$ s ($10^{-18}$ erg s$^{-1}$ cm$^{-2}$)', va='center', rotation='vertical', fontsize=20)"
   ]
  },
  {
   "cell_type": "markdown",
   "metadata": {},
   "source": [
    "## Issues"
   ]
  },
  {
   "cell_type": "markdown",
   "metadata": {},
   "source": [
    "* We are missing data for F410M that is shown on the JDox pages. Are the text files out of date?"
   ]
  },
  {
   "cell_type": "code",
   "execution_count": null,
   "metadata": {},
   "outputs": [],
   "source": []
  }
 ],
 "metadata": {
  "kernelspec": {
   "display_name": "Python 3",
   "language": "python",
   "name": "python3"
  },
  "language_info": {
   "codemirror_mode": {
    "name": "ipython",
    "version": 3
   },
   "file_extension": ".py",
   "mimetype": "text/x-python",
   "name": "python",
   "nbconvert_exporter": "python",
   "pygments_lexer": "ipython3",
   "version": "3.5.6"
  }
 },
 "nbformat": 4,
 "nbformat_minor": 1
}
