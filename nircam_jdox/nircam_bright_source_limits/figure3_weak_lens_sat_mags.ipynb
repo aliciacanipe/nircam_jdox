{
 "cells": [
  {
   "cell_type": "markdown",
   "metadata": {},
   "source": [
    "# Figure 3: Saturation magnitudes for SW NIRCam Filters w/ WLP8 weak lens"
   ]
  },
  {
   "cell_type": "markdown",
   "metadata": {},
   "source": [
    "***\n",
    "### Table of Contents\n",
    "\n",
    "1. [Information](#Information)\n",
    "2. [Imports](#Imports)\n",
    "3. [Data](#Data)\n",
    "4. [Generate the Saturation Magnitudes Plot](#Generate-the-Saturation-Magnitudes-Plot)\n",
    "6. [Issues](#Issues)\n",
    "7. [About this Notebook](#About-this-Notebook)\n",
    "***"
   ]
  },
  {
   "cell_type": "markdown",
   "metadata": {},
   "source": [
    "## Information"
   ]
  },
  {
   "cell_type": "markdown",
   "metadata": {},
   "source": [
    "#### JDox links: \n",
    "* [NIRCam Bright Source Limits](https://jwst-docs.stsci.edu/display/JTI/NIRCam+Bright+Source+Limits#NIRCamBrightSourceLimits-Time-seriesimagingsaturationlimits)\n",
    "    * Figure 3: Saturation magnitudes for short wavelength NIRCam filters using the WLP8 weak lens with a 160 × 160 pixel subarray"
   ]
  },
  {
   "cell_type": "markdown",
   "metadata": {},
   "source": [
    "## Imports"
   ]
  },
  {
   "cell_type": "code",
   "execution_count": null,
   "metadata": {},
   "outputs": [],
   "source": [
    "import os\n",
    "from astropy.io import ascii\n",
    "from astropy.table import Table\n",
    "import requests\n",
    "import matplotlib as mpl\n",
    "import matplotlib.pyplot as plt\n",
    "import matplotlib.cm as cmx\n",
    "from matplotlib.ticker import MultipleLocator, FormatStrFormatter\n",
    "%matplotlib inline"
   ]
  },
  {
   "cell_type": "markdown",
   "metadata": {},
   "source": [
    "## Data"
   ]
  },
  {
   "cell_type": "markdown",
   "metadata": {},
   "source": [
    "#### Data Location: \n",
    "\n",
    "The data is stored in a NIRCam JDox Box folder here:\n",
    "[ST-INS-NIRCAM -> JDox -> nircam_bright_source_limits](https://stsci.box.com/s/t6ssiswd6teqpfagr582w349hu1aitn9)"
   ]
  },
  {
   "cell_type": "code",
   "execution_count": null,
   "metadata": {},
   "outputs": [],
   "source": [
    "files = [('https://stsci.box.com/shared/static/r7rh1n1047lmjgxpo2hf44978yna8ct1.txt', 'saturation64.txt')]"
   ]
  },
  {
   "cell_type": "code",
   "execution_count": null,
   "metadata": {},
   "outputs": [],
   "source": [
    "def download_file(url, file_name, output_directory='./', overwrite=False):\n",
    "    \"\"\"Download a file from Box given the direct URL\n",
    "\n",
    "    Parameters\n",
    "    ----------\n",
    "    url : str\n",
    "        URL to the file to be downloaded\n",
    "        \n",
    "    file_name : str\n",
    "        The name of the file being downloaded\n",
    "        \n",
    "    output_directory : str\n",
    "        Directory to download file_name into\n",
    "        \n",
    "    overwrite : str\n",
    "        If False and the file to download already exists, the download\n",
    "        will be skipped. If True, the file will be downloaded regardless\n",
    "        of whether it already exists in output_directory\n",
    "\n",
    "    Returns\n",
    "    -------\n",
    "    download_filename : str\n",
    "        Name of the downloaded file\n",
    "    \"\"\"\n",
    "    download_filename = os.path.join(output_directory, file_name)\n",
    "    if not os.path.isfile(download_filename) or overwrite is True:\n",
    "        print(\"Downloading {}\".format(file_name))\n",
    "        with requests.get(url, stream=True) as response:\n",
    "            if response.status_code != 200:\n",
    "                raise RuntimeError(\"Wrong URL - {}\".format(url))\n",
    "            with open(download_filename, 'wb') as f:\n",
    "                for chunk in response.iter_content(chunk_size=2048):\n",
    "                    if chunk:\n",
    "                        f.write(chunk)\n",
    "    else:\n",
    "        print(\"{} already exists. Skipping download.\".format(download_filename))\n",
    "    return download_filename"
   ]
  },
  {
   "cell_type": "markdown",
   "metadata": {},
   "source": [
    "#### Load the data\n",
    "\n",
    "(The next cell assumes you downloaded the data into your ```Users/$(logname)/``` home directory)"
   ]
  },
  {
   "cell_type": "code",
   "execution_count": null,
   "metadata": {},
   "outputs": [],
   "source": [
    "if os.environ.get('LOGNAME') is None:\n",
    "    raise ValueError(\"WARNING: LOGNAME environment variable not set!\")"
   ]
  },
  {
   "cell_type": "code",
   "execution_count": null,
   "metadata": {},
   "outputs": [],
   "source": [
    "box_directory = os.path.join(\"/Users/\", os.environ['LOGNAME'], \"box_data\")   \n",
    "box_directory"
   ]
  },
  {
   "cell_type": "code",
   "execution_count": null,
   "metadata": {},
   "outputs": [],
   "source": [
    "if not os.path.isdir(box_directory):\n",
    "    try:\n",
    "        os.mkdir(box_directory)\n",
    "    except:\n",
    "        raise OSError(\"Unable to create {}\".format(box_directory))"
   ]
  },
  {
   "cell_type": "code",
   "execution_count": null,
   "metadata": {},
   "outputs": [],
   "source": [
    "for file_info in files:\n",
    "    file_url, filename = file_info\n",
    "    outfile = download_file(file_url, filename, output_directory=box_directory)"
   ]
  },
  {
   "cell_type": "code",
   "execution_count": null,
   "metadata": {},
   "outputs": [],
   "source": [
    "txt = Table.read(os.path.join(box_directory, 'saturation64.txt'),header_start=4,format='ascii')\n",
    "txt"
   ]
  },
  {
   "cell_type": "markdown",
   "metadata": {},
   "source": [
    "## Generate the Saturation Magnitudes Plot"
   ]
  },
  {
   "cell_type": "code",
   "execution_count": null,
   "metadata": {},
   "outputs": [],
   "source": [
    "#set up colors\n",
    "spectral = cm = plt.get_cmap('nipy_spectral')\n",
    "cNorm  = mpl.colors.Normalize(vmin=0.0, vmax=5.)\n",
    "scalarMap = cmx.ScalarMappable(norm=cNorm, cmap=spectral)\n",
    "\n",
    "#set up minor tick marks\n",
    "XminorLocator = MultipleLocator(0.1)\n",
    "YminorLocator = MultipleLocator(0.1)"
   ]
  },
  {
   "cell_type": "code",
   "execution_count": null,
   "metadata": {},
   "outputs": [],
   "source": [
    "allowedfilters = 'F140M F150W F182M F187N F200W F210M F212N'.split()  # Time Series Imaging\n",
    "\n",
    "plt.figure(figsize=(10,6))\n",
    "\n",
    "ss = []\n",
    "cc = []\n",
    "allcolors = []\n",
    "for line in txt:\n",
    "    filter = line['Filter']\n",
    "    saturation = line['Saturation']\n",
    "    center = line['Center']\n",
    "    lambda1 = line['Lambda1']\n",
    "    lambda2 = line['Lambda2']\n",
    "\n",
    "    if filter not in allowedfilters:\n",
    "        continue\n",
    "\n",
    "    if 'W' in filter:\n",
    "        sym = 'D'\n",
    "        lw = 1\n",
    "        color = 'w'\n",
    "        ms = 12\n",
    "        fontweight = 'normal'\n",
    "        fontsize = 10\n",
    "        color = 'k'\n",
    "        style = 'normal'\n",
    "    elif 'M' in filter:\n",
    "        sym = 'o'\n",
    "        lw = 3\n",
    "        color = 'k'\n",
    "        ms = 8\n",
    "        fontweight = 'bold'\n",
    "        fontsize = 8\n",
    "        color = 'k'\n",
    "        style = 'normal'\n",
    "        #continue\n",
    "    elif 'N' in filter:\n",
    "        sym = '+'\n",
    "        lw = 5\n",
    "        color = 'k'\n",
    "        ms = 8\n",
    "        fontweight = 'normal'\n",
    "        fontsize = 10\n",
    "        color= 'k'\n",
    "        style = 'italic'\n",
    "        #continue\n",
    "\n",
    "    dy = 0.9\n",
    "    dy = 1.5\n",
    "    saturation_full = float(saturation)\n",
    "    saturation_160 = saturation_full - 4.06\n",
    "    saturation = float(saturation_160)  # WLP8 160x160\n",
    "    y = saturation\n",
    "    dy = 0.23\n",
    "    if filter in 'F115W F322W2 F470N F480M F200W F187N'.split():\n",
    "        dy = -0.42\n",
    "    plt.text(center, y-dy, filter, ha='center', fontsize=fontsize, fontweight=fontweight, color=color, style=style)\n",
    "    plt.plot([lambda1, lambda2], [saturation, saturation], 'k', lw=lw, zorder=-10)\n",
    "    ss.append(float(saturation))\n",
    "    cc.append(float(center))\n",
    "    midpt = cc\n",
    "    colorVal = scalarMap.to_rgba(float(center)-0.2)\n",
    "    allcolors.append(colorVal)\n",
    "\n",
    "plt.scatter(cc,ss,s=250, color=allcolors,alpha=0.6)\n",
    "plt.clim(0.3, 5.3)\n",
    "plt.xlabel('Wavelength (microns)',fontsize=17)\n",
    "plt.ylabel('Saturation K mag (Vega) for G2V star',fontsize=17)\n",
    "plt.title('Saturation (80% well) WLP8 + 160x160 subarray (2 reads)',fontsize=18)\n",
    "ml = MultipleLocator(5)\n",
    "plt.axes().yaxis.set_minor_locator(ml)\n",
    "plt.xlim(0.5,5.1)\n",
    "plt.ylim(-0.5,6.5,1)\n",
    "plt.clim(0.3, 5.3)\n",
    "plt.gca().invert_yaxis()\n",
    "plt.tick_params(labelsize=20)\n",
    "plt.tick_params(axis='both', right='off', top='False')"
   ]
  },
  {
   "cell_type": "markdown",
   "metadata": {},
   "source": [
    "## Issues"
   ]
  },
  {
   "cell_type": "markdown",
   "metadata": {},
   "source": [
    "* None"
   ]
  },
  {
   "cell_type": "markdown",
   "metadata": {},
   "source": [
    "## About this Notebook\n",
    "**Authors:**   \n",
    "Alicia Canipe & Dan Coe \n",
    "\n",
    "**Updated On:**   \n",
    "April 05, 2019"
   ]
  }
 ],
 "metadata": {
  "kernelspec": {
   "display_name": "Python 3",
   "language": "python",
   "name": "python3"
  },
  "language_info": {
   "codemirror_mode": {
    "name": "ipython",
    "version": 3
   },
   "file_extension": ".py",
   "mimetype": "text/x-python",
   "name": "python",
   "nbconvert_exporter": "python",
   "pygments_lexer": "ipython3",
   "version": "3.6.7"
  }
 },
 "nbformat": 4,
 "nbformat_minor": 1
}
