{
 "cells": [
  {
   "cell_type": "markdown",
   "metadata": {},
   "source": [
    "# Figure 1 Data: Depth vs. Exposure Time"
   ]
  },
  {
   "cell_type": "markdown",
   "metadata": {},
   "source": [
    "***\n",
    "### Table of Contents\n",
    "\n",
    "1. [Information](#Information)\n",
    "2. [Imports](#Imports)\n",
    "3. [Data Location](#Data-Location)\n",
    "4. [Generate the Data](#Generate-the-Data)\n",
    "5. [Issues](#Issues)\n",
    "6. [About this Notebook](#About-this-Notebook)\n",
    "***"
   ]
  },
  {
   "cell_type": "markdown",
   "metadata": {},
   "source": [
    "## Information"
   ]
  },
  {
   "cell_type": "markdown",
   "metadata": {},
   "source": [
    "#### JDox links: \n",
    "* [NIRCam Imaging Sensitivity](https://jwst-docs.stsci.edu/display/JTI/NIRCam+Imaging+Sensitivity#NIRCamImagingSensitivity-Depthvs.exposuretime)\n",
    "    * Figure 1. Depth vs. exposure time\n",
    " \n",
    "*** \n",
    "<div class=\"alert alert-warning\">\n",
    "\n",
    "**Warning:** This notebook assumes you have installed Pandeia according to the JDox instructions here: [Installing Pandeia](https://jwst-docs.stsci.edu/display/JPP/Installing+Pandeia)\n",
    "\n",
    "</div>\n",
    "\n",
    "***"
   ]
  },
  {
   "cell_type": "markdown",
   "metadata": {},
   "source": [
    "## Imports"
   ]
  },
  {
   "cell_type": "code",
   "execution_count": null,
   "metadata": {},
   "outputs": [],
   "source": [
    "import os\n",
    "import json\n",
    "import numpy as np  \n",
    "import astropy.io.fits as pyfits\n",
    "import matplotlib.pyplot as plt\n",
    "%matplotlib inline\n",
    "\n",
    "from pandeia.engine.perform_calculation import perform_calculation"
   ]
  },
  {
   "cell_type": "markdown",
   "metadata": {},
   "source": [
    "## Data Location"
   ]
  },
  {
   "cell_type": "markdown",
   "metadata": {},
   "source": [
    "#### Background data: \n",
    "\n",
    "Background data are installed as part of the Pandeia installation (i.e., the files are located wherever you assigned your ```pandeia_refdata``` environment variable). See [Setting up the Pandeia Environment](https://jwst-docs.stsci.edu/display/JPP/Installing+Pandeia#InstallingPandeia-SettingupthePandeiaEnvironment) for more details.\n",
    "\n",
    "After the data is generated, it will be kept in a Box folder here along with the associated JSON files:\n",
    "[ST-INS-NIRCAM -> JDox -> nircam_imaging_sensitivity](https://stsci.box.com/s/zzlofpyysmxfc9uxaqj893hjfxeo4j7j)"
   ]
  },
  {
   "cell_type": "markdown",
   "metadata": {},
   "source": [
    "#### Load the background data and JSON file\n",
    "\n",
    "(The next cell assumes you downloaded the data into your ```Users/$(logname)/``` home directory)"
   ]
  },
  {
   "cell_type": "code",
   "execution_count": null,
   "metadata": {},
   "outputs": [],
   "source": [
    "# BKG\n",
    "bkg_level = \"low\" # low, medium, high\n",
    "\n",
    "bg_file = os.environ['pandeia_refdata']+\"/background/minzodi_\"+bkg_level+\".fits\"\n",
    "print('BKG: '+bg_file)\n",
    "\n",
    "bg_table = pyfits.getdata(bg_file)\n",
    "background = [bg_table['wavelength'],bg_table['background']] # wavelength in micron, SB in MJy/sr\n",
    "\n",
    "# JSON\n",
    "jsonfile = 'nircam_imaging.json'  \n",
    "print('JSON: '+jsonfile)\n",
    "\n",
    "with open(jsonfile) as f:\n",
    "    imgr_data = json.load(f)"
   ]
  },
  {
   "cell_type": "markdown",
   "metadata": {},
   "source": [
    "## Generate the Data"
   ]
  },
  {
   "cell_type": "markdown",
   "metadata": {},
   "source": [
    "#### Create ladder of exposure times using recommended readout patterns and numbers of groups"
   ]
  },
  {
   "cell_type": "code",
   "execution_count": null,
   "metadata": {},
   "outputs": [],
   "source": [
    "#readmodes = 'rapid bright1 bright2 shallow2 shallow4 medium2 medium8 deep2 deep8'.split()\n",
    "readmodes = 'bright1 shallow4 medium8 deep8'.split()  # bright2 ngroups > 4 not allowed\n",
    "\n",
    "readpats = []\n",
    "for readmode in readmodes:\n",
    "    if 'bright' in readmode:\n",
    "        ngroups = np.arange(5,11)  # NGROUPS = 1 doesn't work\n",
    "    elif 'shallow' in readmode:\n",
    "        ngroups = np.arange(5,11)  # NGROUPS = 1 doesn't work\n",
    "    elif 'medium' in readmode:\n",
    "        ngroups = np.arange(6,11)  # pick up where the last group left off\n",
    "    elif 'deep' in readmode:\n",
    "        ngroups = np.arange(6,21)  # pick up where the last group left off\n",
    "    for ngroup in ngroups:\n",
    "        readpat = readmode + ' %d' % ngroup\n",
    "        readpats.append(readpat)\n",
    "        #print readpat"
   ]
  },
  {
   "cell_type": "markdown",
   "metadata": {},
   "source": [
    "#### Perform the calculation"
   ]
  },
  {
   "cell_type": "code",
   "execution_count": null,
   "metadata": {
    "scrolled": false
   },
   "outputs": [],
   "source": [
    "# Test\n",
    "#results = perform_calculation(imgr_data)\n",
    "\n",
    "######\n",
    "# Edit parameters and try one calculation\n",
    "\n",
    "imgr_data['scene'][0]['spectrum']['normalization']['norm_flux'] = mag = 29\n",
    "imgr_data['scene'][0]['spectrum']['normalization']['norm_fluxunit'] = 'abmag'\n",
    "imgr_data['configuration']['detector']['nexp'] = nexp = 4\n",
    "imgr_data['configuration']['detector']['nint'] = nint = 1\n",
    "imgr_data['configuration']['detector']['ngroup'] = ngroup = 5\n",
    "imgr_data['configuration']['detector']['readmode'] = readmode = 'bright1'\n",
    "imgr_data['configuration']['instrument']['filter'] = filt = 'f200w'\n",
    "imgr_data['background'] = background\n",
    "\n",
    "ch = 'sw'\n",
    "imgr_data['configuration']['instrument']['aperture'] = ch\n",
    "imgr_data['configuration']['instrument']['mode'] = ch+'_imaging'\n",
    "imgr_data['strategy']['aperture_size'] = 0.08  # radius (default 0.1\")\n",
    "imgr_data['strategy']['sky_annulus'] = 0.6, 0.99  # (default 0.22\" - 0.4\")\n",
    "\n",
    "results = perform_calculation(imgr_data)\n",
    "exptime = results['scalar']['exposure_time']\n",
    "\n",
    "line = readmode.ljust(10)\n",
    "snr = results['scalar']['sn']\n",
    "line += '%2d  %2d  %2d  %7.2f  %12.8f' % (ngroup, nint, nexp, exptime, snr)\n",
    "print line\n",
    "print \"Initial test complete...\"\n",
    "print\n",
    "\n",
    "######\n",
    "\n",
    "snr0 = 10  # desired SNR\n",
    "\n",
    "outdir = 'results_snr%d' % snr0\n",
    "if not os.path.exists(outdir):\n",
    "    os.mkdir(outdir)\n",
    "\n",
    "filts = 'f090w f115w f150w f200w f277w f356w f410m f444w'.split()\n",
    "for filt in filts:\n",
    "    print filt\n",
    "    lam = int(filt[1:4])\n",
    "    if lam < 240:\n",
    "        ch = 'sw'\n",
    "        imgr_data['strategy']['aperture_size'] = 0.08  # radius (default 0.1\")\n",
    "        imgr_data['strategy']['sky_annulus'] = 0.6, 0.99  # (default 0.22\" - 0.4\")\n",
    "    else:\n",
    "        ch = 'lw'\n",
    "        imgr_data['strategy']['aperture_size'] = 0.16  # radius (default 0.1\")\n",
    "        imgr_data['strategy']['sky_annulus'] = 1.2, 1.98  # (default 0.22\" - 0.4\")\n",
    "\n",
    "    imgr_data['configuration']['instrument']['aperture'] = ch\n",
    "    imgr_data['configuration']['instrument']['mode'] = ch+'_imaging'\n",
    "\n",
    "    imgr_data['configuration']['instrument']['filter'] = filt\n",
    "\n",
    "    ireadpat = 0\n",
    "\n",
    "    mags = np.arange(25.9,31,0.2) + 0.1\n",
    "    mags = mags - 2.5 * np.log10(snr0 / 5.)\n",
    "    for mag in mags:\n",
    "        print filt, 'mag', mag\n",
    "        nexp = 4\n",
    "        imgr_data['scene'][0]['spectrum']['normalization']['norm_flux'] = mag\n",
    "        imgr_data['configuration']['detector']['nexp'] = nexp\n",
    "    \n",
    "        outfile = outdir + '/etc_snr_%dexp_%s_mag%5.2f.txt' % (nexp, filt, mag)\n",
    "        if os.path.exists(outfile):\n",
    "            print outfile, 'EXISTS.  SKIPPING...'\n",
    "            continue\n",
    "        \n",
    "        fout = open(outfile, 'w')\n",
    "        snr = 0\n",
    "        ireadpat1 = ireadpat\n",
    "        while snr < snr0:\n",
    "            readpat = readpats[ireadpat]\n",
    "            #print filt, readpat\n",
    "            readmode, ngroup = readpat.split()\n",
    "            ngroup = int(ngroup)\n",
    "            imgr_data['configuration']['detector']['ngroup'] = ngroup\n",
    "            imgr_data['configuration']['detector']['readmode'] = readmode\n",
    "            results = perform_calculation(imgr_data)\n",
    "            exptime = results['scalar']['exposure_time']\n",
    "            snr = results['scalar']['sn']\n",
    "            line = readmode.ljust(10)\n",
    "            line += '%2d  %2d  %2d  %7.2f  %12.8f' % (ngroup, nint, nexp, exptime, snr)\n",
    "            print line\n",
    "            if snr > snr0:\n",
    "                if ireadpat:\n",
    "                    if ireadpat == ireadpat1:\n",
    "                        # If SNR > snr0 on the first attempt, then go back to previous shallower pattern\n",
    "                        print 'Going back one...'\n",
    "                        readpat = readpats[ireadpat-1]\n",
    "                        readmode, ngroup = readpat.split()\n",
    "                        ngroup = int(ngroup)\n",
    "                        imgr_data['configuration']['detector']['ngroup'] = ngroup\n",
    "                        imgr_data['configuration']['detector']['readmode'] = readmode\n",
    "                        results1 = perform_calculation(imgr_data)\n",
    "                        exptime1 = results1['scalar']['exposure_time']\n",
    "                        snr1 = results1['scalar']['sn']\n",
    "                        line1 = readmode.ljust(10)\n",
    "                        line1 += '%2d  %2d  %2d  %7.2f  %12.8f' % (ngroup, nint, nexp, exptime1, snr1)\n",
    "                        print line1\n",
    "                        fout.write(line1+'\\n')\n",
    "                    \n",
    "            fout.write(line+'\\n')\n",
    "            #print readmode, ngroup, exptime, snr\n",
    "            if snr < snr0:\n",
    "                ireadpat += 1\n",
    "                \n",
    "            if ireadpat == len(readpats):\n",
    "                break  # final read pattern didn't yield snr > snr0\n",
    "\n",
    "        fout.close()\n",
    "        print outfile\n",
    "        print\n",
    "        \n",
    "        if ireadpat == len(readpats):\n",
    "            break  # mag loop; can't go fainter; final read pattern didn't yield snr > snr0"
   ]
  },
  {
   "cell_type": "markdown",
   "metadata": {},
   "source": [
    "## Issues"
   ]
  },
  {
   "cell_type": "markdown",
   "metadata": {},
   "source": [
    "* This runs very slowly in the notebook. Should we just keep it as a standalone script?"
   ]
  },
  {
   "cell_type": "markdown",
   "metadata": {},
   "source": [
    "## About this Notebook\n",
    "**Authors:**   \n",
    "Dan Coe & Alicia Canipe\n",
    "\n",
    "**Updated On:**   \n",
    "April 10, 2019"
   ]
  },
  {
   "cell_type": "code",
   "execution_count": null,
   "metadata": {},
   "outputs": [],
   "source": []
  }
 ],
 "metadata": {
  "kernelspec": {
   "display_name": "Python 3",
   "language": "python",
   "name": "python3"
  },
  "language_info": {
   "codemirror_mode": {
    "name": "ipython",
    "version": 3
   },
   "file_extension": ".py",
   "mimetype": "text/x-python",
   "name": "python",
   "nbconvert_exporter": "python",
   "pygments_lexer": "ipython3",
   "version": "3.5.5"
  }
 },
 "nbformat": 4,
 "nbformat_minor": 1
}
