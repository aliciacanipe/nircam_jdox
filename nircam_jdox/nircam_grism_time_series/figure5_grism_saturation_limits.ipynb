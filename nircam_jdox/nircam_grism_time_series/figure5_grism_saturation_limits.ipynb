{
 "cells": [
  {
   "cell_type": "markdown",
   "metadata": {},
   "source": [
    "# Figure 5: Grism Saturation Limits"
   ]
  },
  {
   "cell_type": "markdown",
   "metadata": {},
   "source": [
    "***\n",
    "### Table of Contents\n",
    "\n",
    "1. [Information](#Information)\n",
    "2. [Imports](#Imports)\n",
    "3. [Data](#Data)\n",
    "4. [Generate the Saturation Limits Plot](#Generate-the-Saturation-Limits-Plot)\n",
    "5. [Issues](#Issues)\n",
    "6. [About this Notebook](#About-this-Notebook)\n",
    "***"
   ]
  },
  {
   "cell_type": "markdown",
   "metadata": {},
   "source": [
    "## Information"
   ]
  },
  {
   "cell_type": "markdown",
   "metadata": {},
   "source": [
    "#### JDox links: \n",
    "* [NIRCam Grism Time Series](https://jwst-docs.stsci.edu/display/JTI/NIRCam+Grism+Time+Series#NIRCamGrismTimeSeries-Saturationlimits)\n",
    "    * Figure 5: Grism saturation limits in the 2048 × 64 pixel subarray"
   ]
  },
  {
   "cell_type": "markdown",
   "metadata": {},
   "source": [
    "## Imports"
   ]
  },
  {
   "cell_type": "code",
   "execution_count": null,
   "metadata": {},
   "outputs": [],
   "source": [
    "import os\n",
    "from astropy.io import ascii\n",
    "from astropy.table import Table\n",
    "import matplotlib.pyplot as plt\n",
    "%matplotlib inline"
   ]
  },
  {
   "cell_type": "markdown",
   "metadata": {},
   "source": [
    "## Data"
   ]
  },
  {
   "cell_type": "markdown",
   "metadata": {},
   "source": [
    "#### Data Location: \n",
    "\n",
    "The data is stored in a NIRCam JDox Box folder here:\n",
    "[ST-INS-NIRCAM -> JDox -> nircam_sensitivities](https://stsci.box.com/s/4isw1i051z7mgqjp0eq4h4yrv37qyzkx)"
   ]
  },
  {
   "cell_type": "markdown",
   "metadata": {},
   "source": [
    "#### Load the data\n",
    "\n",
    "(The next cell assumes you downloaded the data into your ```Users/$(logname)/``` home directory)"
   ]
  },
  {
   "cell_type": "code",
   "execution_count": null,
   "metadata": {},
   "outputs": [],
   "source": [
    "box_directory = \"/Users/\"+os.environ['LOGNAME']+\"/box_data/\"   \n",
    "box_directory"
   ]
  },
  {
   "cell_type": "code",
   "execution_count": null,
   "metadata": {},
   "outputs": [],
   "source": [
    "module_a_lw = Table.read(box_directory+'moda_lw_grism.txt',format='ascii')\n",
    "module_b_lw = Table.read(box_directory+'modb_lw_grism.txt',format='ascii')"
   ]
  },
  {
   "cell_type": "code",
   "execution_count": null,
   "metadata": {},
   "outputs": [],
   "source": [
    "module_b_lw"
   ]
  },
  {
   "cell_type": "markdown",
   "metadata": {},
   "source": [
    "## Generate the Saturation Limits Plot"
   ]
  },
  {
   "cell_type": "code",
   "execution_count": null,
   "metadata": {},
   "outputs": [],
   "source": [
    "f322w2 = module_a_lw['filter'] == 'F322W2'\n",
    "f444w = module_b_lw['filter'] == 'F444W'"
   ]
  },
  {
   "cell_type": "code",
   "execution_count": null,
   "metadata": {},
   "outputs": [],
   "source": [
    "f, ax1 = plt.subplots(1, sharex=True,figsize=(10, 10))\n",
    "\n",
    "ax1.plot(module_a_lw[f322w2]['wavelength (micrometer)'], module_a_lw[f322w2]['Ksat (AOV)'], lw=3, label='F322W2 + Grism (Mod A)',color='blue')\n",
    "ax1.plot(module_a_lw[f444w]['wavelength (micrometer)'], module_a_lw[f444w]['Ksat (AOV)'], lw=3, label='F444W + Grism (Mod A)',color='red')\n",
    "# ax1.plot(module_b_lw[f322w2]['wavelength (micrometer)'], module_b_lw[f322w2]['Ksat (AOV)'], lw=3, label='F322W2 + Grism (module_b_lw)',color='blue',linestyle='dashed')\n",
    "# ax1.plot(module_b_lw[f444w]['wavelength (micrometer)'], module_b_lw[f444w]['Ksat (AOV)'], lw=3, label='F444W + Grism (module_b_lw)',color='red',linestyle='dashed')\n",
    "\n",
    "ax1.set_ylim(ax1.get_ylim()[::-1])\n",
    "ax1.set_xlim(2.25,5.1)\n",
    "ax1.set_ylim(4.9,-0.1)\n",
    "ax1.tick_params(labelsize=20)\n",
    "ax1.tick_params(axis='both', right='off', top='False')\n",
    "ax1.tick_params('y', length=10, width=2, which='major')\n",
    "ax1.tick_params('x', length=10, width=2, which='major')\n",
    "\n",
    "ax1.legend(loc='best', fontsize=16)\n",
    "\n",
    "f.text(0.5, 0.04, 'wavelength (microns)', ha='center', fontsize=20)\n",
    "f.text(0.04, 0.5, 'K magnitude (Vega) A0V star', va='center', rotation='vertical', fontsize=20)"
   ]
  },
  {
   "cell_type": "markdown",
   "metadata": {},
   "source": [
    "## Issues"
   ]
  },
  {
   "cell_type": "markdown",
   "metadata": {},
   "source": [
    "* None"
   ]
  },
  {
   "cell_type": "markdown",
   "metadata": {},
   "source": [
    "## About this Notebook\n",
    "**Authors:**   \n",
    "Alicia Canipe & Dan Coe \n",
    "\n",
    "**Updated On:**   \n",
    "April 05, 2019"
   ]
  }
 ],
 "metadata": {
  "kernelspec": {
   "display_name": "Python 3",
   "language": "python",
   "name": "python3"
  },
  "language_info": {
   "codemirror_mode": {
    "name": "ipython",
    "version": 3
   },
   "file_extension": ".py",
   "mimetype": "text/x-python",
   "name": "python",
   "nbconvert_exporter": "python",
   "pygments_lexer": "ipython3",
   "version": "3.5.5"
  }
 },
 "nbformat": 4,
 "nbformat_minor": 1
}
