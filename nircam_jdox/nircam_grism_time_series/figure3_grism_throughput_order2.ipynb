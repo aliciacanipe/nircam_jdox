{
 "cells": [
  {
   "cell_type": "markdown",
   "metadata": {},
   "source": [
    "# Figure 3: Grism Throughput Response for LW Filters ($2^{nd}$ Order)"
   ]
  },
  {
   "cell_type": "markdown",
   "metadata": {},
   "source": [
    "***\n",
    "### Table of Contents\n",
    "\n",
    "1. [Information](#Information)\n",
    "2. [Imports](#Imports)\n",
    "3. [Data](#Data)\n",
    "4. [Generate the Second Order Throughput Response Plot](#Generate-the-Second-Order-Throughput-Response-Plot)\n",
    "5. [Issues](#Issues)\n",
    "6. [About this Notebook](#About-this-Notebook)\n",
    "***"
   ]
  },
  {
   "cell_type": "markdown",
   "metadata": {},
   "source": [
    "## Information"
   ]
  },
  {
   "cell_type": "markdown",
   "metadata": {},
   "source": [
    "#### JDox links: \n",
    "* [NIRCam Grism Time Series](https://jwst-docs.stsci.edu/display/JTI/NIRCam+Grism+Time+Series#NIRCamGrismTimeSeries-Filters)\n",
    "    * Figure 3: Throughput response for NIRCam grism and long wavelength filters ($2^{nd}$ order)"
   ]
  },
  {
   "cell_type": "markdown",
   "metadata": {},
   "source": [
    "## Imports"
   ]
  },
  {
   "cell_type": "code",
   "execution_count": null,
   "metadata": {},
   "outputs": [],
   "source": [
    "import os\n",
    "import pylab\n",
    "import numpy as np\n",
    "import pysynphot as S\n",
    "from astropy.io import ascii\n",
    "from astropy.table import Table\n",
    "import requests\n",
    "import matplotlib.pyplot as plt\n",
    "%matplotlib inline"
   ]
  },
  {
   "cell_type": "markdown",
   "metadata": {},
   "source": [
    "## Data"
   ]
  },
  {
   "cell_type": "markdown",
   "metadata": {},
   "source": [
    "#### Data Location: \n",
    "\n",
    "The data is stored in a NIRCam JDox Box folder here:\n",
    "[ST-INS-NIRCAM -> JDox -> nircam_grism_time_series](https://stsci.box.com/s/tf6049a75u6f3uc26q3xu6w8tv456pk7)"
   ]
  },
  {
   "cell_type": "code",
   "execution_count": null,
   "metadata": {},
   "outputs": [],
   "source": [
    "files = [('https://stsci.box.com/shared/static/p3sfybd8efc83qv89ds1vnflnz2noq3b.txt', 'F070W_NRC_and_OTE_ModAB_mean.txt'),\n",
    "         ('https://stsci.box.com/shared/static/ops33fuuaiz79qcv26srmussv14ousuz.txt', 'F090W_NRC_and_OTE_ModAB_mean.txt'),\n",
    "         ('https://stsci.box.com/shared/static/bcdj04zp58liw9egpy7y889zcctcdx86.txt', 'F115W_NRC_and_OTE_ModAB_mean.txt'),\n",
    "         ('https://stsci.box.com/shared/static/o0vw1ih8yfiq97afmcbkrjgzep52umdf.txt', 'F140M_NRC_and_OTE_ModAB_mean.txt'),\n",
    "         ('https://stsci.box.com/shared/static/sfxywmlhcj1rg9cn7jsjipvnexqba2pc.txt', 'F150W2_NRC_and_OTE_ModAB_mean.txt'),\n",
    "         ('https://stsci.box.com/shared/static/iznsxikuh4sshfmvmwhdfzbos0t5tp76.txt', 'F150W_NRC_and_OTE_ModAB_mean.txt'),\n",
    "         ('https://stsci.box.com/shared/static/ynn2cslbli9pu6lpam7q4ii3uhy8csc5.txt', 'F162M_NRC_and_OTE_ModAB_mean.txt'),\n",
    "         ('https://stsci.box.com/shared/static/hqwuuk0cwzh244ip07ynlov1em1qxzd2.txt', 'F164N_NRC_and_OTE_ModAB_mean.txt'),\n",
    "         ('https://stsci.box.com/shared/static/bi6oe3xm3xzqjeiv4fd9jiw45abxypss.txt', 'F182M_NRC_and_OTE_ModAB_mean.txt'),\n",
    "         ('https://stsci.box.com/shared/static/3kkfo2vipr30llc3segu3jybgnp1b5wy.txt', 'F187N_NRC_and_OTE_ModAB_mean.txt'),\n",
    "         ('https://stsci.box.com/shared/static/knanodd82bisgl9jm8kkolzx7clz0n6v.txt', 'F200W_NRC_and_OTE_ModAB_mean.txt'),\n",
    "         ('https://stsci.box.com/shared/static/fn48mlbqwfb1iks2oiuhmbog0zrmt5cn.txt', 'F210M_NRC_and_OTE_ModAB_mean.txt'),\n",
    "         ('https://stsci.box.com/shared/static/2wdne7tkfmdov5avedef3zypwzzwhavr.txt', 'F212N_NRC_and_OTE_ModAB_mean.txt'),\n",
    "         ('https://stsci.box.com/shared/static/5eswzma6gtld0kgksc7wdeajjwhdycso.txt', 'F250M_NRC_and_OTE_ModAB_mean.txt'),\n",
    "         ('https://stsci.box.com/shared/static/88kjudlxg00fu1g1ep5vpzh2d2rey7i1.txt', 'F277W_NRC_and_OTE_ModAB_mean.txt'),\n",
    "         ('https://stsci.box.com/shared/static/djjq4dmrmwa90yfgzjra6nzugwyecoqm.txt', 'F300M_NRC_and_OTE_ModAB_mean.txt'),\n",
    "         ('https://stsci.box.com/shared/static/0orsgodf2k33h65yxyd651p3q37zgrhe.txt', 'F322W2_NRC_and_OTE_ModAB_mean.txt'),\n",
    "         ('https://stsci.box.com/shared/static/z5pz3m31xzqolo56n4x1eac9nvnpaabz.txt', 'F323N_NRC_and_OTE_ModAB_mean.txt'),\n",
    "         ('https://stsci.box.com/shared/static/r83zb002r4ga42rv1gxyzwymbj8hz1hl.txt', 'F335M_NRC_and_OTE_ModAB_mean.txt'),\n",
    "         ('https://stsci.box.com/shared/static/l68ztc38lok2xdsxvrtjlp57sbsrh1n7.txt', 'F356W_NRC_and_OTE_ModAB_mean.txt'),\n",
    "         ('https://stsci.box.com/shared/static/ib7v9la4jfzjvmxeure35upr7elw1epa.txt', 'F360M_NRC_and_OTE_ModAB_mean.txt'),\n",
    "         ('https://stsci.box.com/shared/static/xwxp2rc3bz3rqndd5ximhlcwp9kypkqr.txt', 'F405N_NRC_and_OTE_ModAB_mean.txt'),\n",
    "         ('https://stsci.box.com/shared/static/xwrox8e8puh7uwazl2q43fspbifd7gpu.txt', 'F410M_NRC_and_OTE_ModAB_mean.txt'),\n",
    "         ('https://stsci.box.com/shared/static/rsuq0nalldng8tplgi8x24tztkdcbzfc.txt', 'F430M_NRC_and_OTE_ModAB_mean.txt'),\n",
    "         ('https://stsci.box.com/shared/static/ifka343brbjh2tvkugsdhfeujp6b1iqn.txt', 'F444W_NRC_and_OTE_ModAB_mean.txt'),\n",
    "         ('https://stsci.box.com/shared/static/rvkqjp0s0b709phimtmdvl641fpexxer.txt', 'F460M_NRC_and_OTE_ModAB_mean.txt'),\n",
    "         ('https://stsci.box.com/shared/static/kestno7niryilo4c0t91a9z7vmth4751.txt', 'F466N_NRC_and_OTE_ModAB_mean.txt'),\n",
    "         ('https://stsci.box.com/shared/static/xlh9t4k2breqipeq5io4y5x2jp2m7myn.txt', 'F470N_NRC_and_OTE_ModAB_mean.txt'),\n",
    "         ('https://stsci.box.com/shared/static/hx47qygujmo0c8kl94kcrxvwr01msrxc.txt', 'F480M_NRC_and_OTE_ModAB_mean.txt'),\n",
    "         ('https://stsci.box.com/shared/static/q002uyvir8h5q9i0wuwdgugtxp274fe3.fits', 'jwst_nircam_f070w_moda_trans.fits'),\n",
    "         ('https://stsci.box.com/shared/static/v621d7261r7u3oklvwq7h8jcpvuc11va.fits', 'jwst_nircam_f070w_modb_trans.fits'),\n",
    "         ('https://stsci.box.com/shared/static/0yc9u7qd7xz1nuuaeiiplyizs56xsdcg.fits', 'jwst_nircam_f070w_trans.fits'),\n",
    "         ('https://stsci.box.com/shared/static/emt5mhp2he7akjmd1q5gc6tlyb8hlvd0.fits', 'jwst_nircam_f090w_moda_trans.fits'),\n",
    "         ('https://stsci.box.com/shared/static/087tgi8n7d954zslcq3cwva6gowqhr9u.fits', 'jwst_nircam_f090w_modb_trans.fits'),\n",
    "         ('https://stsci.box.com/shared/static/vqes8f08a626t9g27s7eraztvta8d2d1.fits', 'jwst_nircam_f090w_trans.fits'),\n",
    "         ('https://stsci.box.com/shared/static/r90ou18ouufa2hyliyzal00llrcvgsgt.fits', 'jwst_nircam_f115w_moda_trans.fits'),\n",
    "         ('https://stsci.box.com/shared/static/q4s6k5x03xm9r7il4vwks1bcaq7ll2ep.fits', 'jwst_nircam_f115w_modb_trans.fits'),\n",
    "         ('https://stsci.box.com/shared/static/hrxhow0nt9k17bkf0znotjgu3xuls4zw.fits', 'jwst_nircam_f115w_trans.fits'),\n",
    "         ('https://stsci.box.com/shared/static/tfzruo3qef0c2w3djxx2f9mx9q3k3e26.fits', 'jwst_nircam_f140m_moda_trans.fits'),\n",
    "         ('https://stsci.box.com/shared/static/001iq06zqvj8ue9o83j0de7hevfaquxk.fits', 'jwst_nircam_f140m_modb_trans.fits'),\n",
    "         ('https://stsci.box.com/shared/static/3vl8ifi4ottw6j9mskozl2ja4eqpee4q.fits', 'jwst_nircam_f140m_trans.fits'),\n",
    "         ('https://stsci.box.com/shared/static/ipxyd17ap5uoknh8yhq1d0phl5v3qev3.fits', 'jwst_nircam_f150w2_moda_trans.fits'),\n",
    "         ('https://stsci.box.com/shared/static/14yxoyt9m5nnln1f214uonbm40ouosvo.fits', 'jwst_nircam_f150w2_modb_trans.fits'),\n",
    "         ('https://stsci.box.com/shared/static/eyn84gua40i76lujc6ytgqmksdhusrio.fits', 'jwst_nircam_f150w2_trans.fits'),\n",
    "         ('https://stsci.box.com/shared/static/cqm9zx2qp71vbropsv9gl78ku0soig76.fits', 'jwst_nircam_f150w_moda_trans.fits'),\n",
    "         ('https://stsci.box.com/shared/static/f5ytcqlr0d3qb2f9by5e9muk57y7fpzn.fits', 'jwst_nircam_f150w_modb_trans.fits'),\n",
    "         ('https://stsci.box.com/shared/static/z0alz51pjnawgwy49cpew6fteand92sr.fits', 'jwst_nircam_f150w_trans.fits'),\n",
    "         ('https://stsci.box.com/shared/static/1yjs6dskrir0k2k5lli0n4e4q8ui0nk5.fits', 'jwst_nircam_f162m_moda_trans.fits'),\n",
    "         ('https://stsci.box.com/shared/static/f2s4mt01mmsj7ukb29fl36oumnq4lwsl.fits', 'jwst_nircam_f162m_modb_trans.fits'),\n",
    "         ('https://stsci.box.com/shared/static/b944mc6y29p5gsz7flyrrectzz80lq7m.fits', 'jwst_nircam_f162m_trans.fits'),\n",
    "         ('https://stsci.box.com/shared/static/ivimch76f0gkgte3ehtlk0sbp31ky995.fits', 'jwst_nircam_f164n_moda_trans.fits'),\n",
    "         ('https://stsci.box.com/shared/static/2mlngldc0oel1erccp435egj6hsdh8bk.fits', 'jwst_nircam_f164n_modb_trans.fits'),\n",
    "         ('https://stsci.box.com/shared/static/h7vngf9b3hk2bnnquubptgahr4ddy35t.fits', 'jwst_nircam_f164n_trans.fits'),\n",
    "         ('https://stsci.box.com/shared/static/lrtpz42dehiyxyn1i57rqtss3zmo5m82.fits', 'jwst_nircam_f182m_moda_trans.fits'),\n",
    "         ('https://stsci.box.com/shared/static/7wnlka8jmrp2cbf213zr6sj9nxzz1b6h.fits', 'jwst_nircam_f182m_modb_trans.fits'),\n",
    "         ('https://stsci.box.com/shared/static/gkics13m42hixktgi01no3k3e4mdlbfa.fits', 'jwst_nircam_f182m_trans.fits'),\n",
    "         ('https://stsci.box.com/shared/static/zy62f09jt4qhdpmpi06oupt1j0cwvnoi.fits', 'jwst_nircam_f187n_moda_trans.fits'),\n",
    "         ('https://stsci.box.com/shared/static/oz3gvx2ifxmqcoq58wh27y6xc8xb1vup.fits', 'jwst_nircam_f187n_modb_trans.fits'),\n",
    "         ('https://stsci.box.com/shared/static/zioq21vr5c0knayu7vbydupo42y14iy1.fits', 'jwst_nircam_f187n_trans.fits'),\n",
    "         ('https://stsci.box.com/shared/static/nqmjloz1czufvn2kdcq4ratuzoyobeb2.fits', 'jwst_nircam_f200w_moda_trans.fits'),\n",
    "         ('https://stsci.box.com/shared/static/0f80l7n1735oyb0lyecu9bfbtsbxep8y.fits', 'jwst_nircam_f200w_modb_trans.fits'),\n",
    "         ('https://stsci.box.com/shared/static/coagdaiiqwsvrosccrrdyzhwbwifffit.fits', 'jwst_nircam_f200w_trans.fits'),\n",
    "         ('https://stsci.box.com/shared/static/vqqicdwx55tgruvxvxtu18utmliyk3zx.fits', 'jwst_nircam_f210m_moda_trans.fits'),\n",
    "         ('https://stsci.box.com/shared/static/id6v2oz6ui6i3aho65jb1x4dtzk08v80.fits', 'jwst_nircam_f210m_modb_trans.fits'),\n",
    "         ('https://stsci.box.com/shared/static/onv7qidjadzk8hl8uexux8o7s6ubuxd2.fits', 'jwst_nircam_f210m_trans.fits'),\n",
    "         ('https://stsci.box.com/shared/static/oabpu1eyv17eurs3jle3cqcv4td7zlw0.fits', 'jwst_nircam_f212n_moda_trans.fits'),\n",
    "         ('https://stsci.box.com/shared/static/necxttcispe8lrlvfjenp6y1i2wqzf4q.fits', 'jwst_nircam_f212n_modb_trans.fits'),\n",
    "         ('https://stsci.box.com/shared/static/so5wgxnot995yi20m0myqg67n1n0szq0.fits', 'jwst_nircam_f212n_trans.fits'),\n",
    "         ('https://stsci.box.com/shared/static/bhzst8us5qegi2zmfgtf2k13eijbo0yh.fits', 'jwst_nircam_f250m_moda_trans.fits'),\n",
    "         ('https://stsci.box.com/shared/static/n525hr454e3muwa8hjg2s3pc649b90io.fits', 'jwst_nircam_f250m_modb_trans.fits'),\n",
    "         ('https://stsci.box.com/shared/static/t9wea2b7ynlqum42cazs3uog1ncw9nql.fits', 'jwst_nircam_f250m_trans.fits'),\n",
    "         ('https://stsci.box.com/shared/static/zpxqwg0fr3d3baokajh50t8orou8ai6w.fits', 'jwst_nircam_f277w_moda_trans.fits'),\n",
    "         ('https://stsci.box.com/shared/static/hlagbg669x27xx26i1voef2dysmb8gqm.fits', 'jwst_nircam_f277w_modb_trans.fits'),\n",
    "         ('https://stsci.box.com/shared/static/nep9ebnmoyogmup48gkifnekour2du3b.fits', 'jwst_nircam_f277w_trans.fits'),\n",
    "         ('https://stsci.box.com/shared/static/77m4vzldbjvyesnmak7a8yrivie3abj1.fits', 'jwst_nircam_f300m_moda_trans.fits'),\n",
    "         ('https://stsci.box.com/shared/static/ywl67tyf7h67e84kccqfjmj68kjk5946.fits', 'jwst_nircam_f300m_modb_trans.fits'),\n",
    "         ('https://stsci.box.com/shared/static/29ysbdq1ijvjayex5dsjx8fqck6pc57m.fits', 'jwst_nircam_f300m_trans.fits'),\n",
    "         ('https://stsci.box.com/shared/static/ji9pz1symqweujoxwfg1k94vma0t8w7h.fits', 'jwst_nircam_f322w2_moda_trans.fits'),\n",
    "         ('https://stsci.box.com/shared/static/7g2ml1dfcsjkhthzaa2d64kxq2l2ozvo.fits', 'jwst_nircam_f322w2_modb_trans.fits'),\n",
    "         ('https://stsci.box.com/shared/static/18344rcr1mgehveuuq5ouh5gdadtizgl.fits', 'jwst_nircam_f322w2_trans.fits'),\n",
    "         ('https://stsci.box.com/shared/static/asn3qkwhf0j2f59j7a5c3jr8vmkd1hf8.fits', 'jwst_nircam_f323n_moda_trans.fits'),\n",
    "         ('https://stsci.box.com/shared/static/znnt66i6muj1r2ggdy85jkayq79h50cn.fits', 'jwst_nircam_f323n_modb_trans.fits'),\n",
    "         ('https://stsci.box.com/shared/static/hj9i2hjgnyukxg0g3hl7g1xll70fcknt.fits', 'jwst_nircam_f323n_trans.fits'),\n",
    "         ('https://stsci.box.com/shared/static/bh7fot8pkstl8slffktbzmokoiptnmdg.fits', 'jwst_nircam_f335m_moda_trans.fits'),\n",
    "         ('https://stsci.box.com/shared/static/5n9b8f70405d97z3er1688g5mfcc53db.fits', 'jwst_nircam_f335m_modb_trans.fits'),\n",
    "         ('https://stsci.box.com/shared/static/yb3o86rbicpud401xw5woi230ipwe88y.fits', 'jwst_nircam_f335m_trans.fits'),\n",
    "         ('https://stsci.box.com/shared/static/3a24wuinnrlmz3fwgbhn0b66topjix9k.fits', 'jwst_nircam_f356w_moda_trans.fits'),\n",
    "         ('https://stsci.box.com/shared/static/x31rhyxm832gxnyov2bvxbluesxl2oj3.fits', 'jwst_nircam_f356w_modb_trans.fits'),\n",
    "         ('https://stsci.box.com/shared/static/qz3ugwcw3dmjt0jcfyrnhnboo7x7yxj1.fits', 'jwst_nircam_f356w_trans.fits'),\n",
    "         ('https://stsci.box.com/shared/static/iq75hpd6njl4znq0sg9oll9l1xh15l09.fits', 'jwst_nircam_f360m_moda_trans.fits'),\n",
    "         ('https://stsci.box.com/shared/static/mphs45niz6p3tke1o4jw4b0i0io7qt0g.fits', 'jwst_nircam_f360m_modb_trans.fits'),\n",
    "         ('https://stsci.box.com/shared/static/cwxdluohobrcpk32qq9osgzc7o651pa4.fits', 'jwst_nircam_f360m_trans.fits'),\n",
    "         ('https://stsci.box.com/shared/static/jytl3abr69pjvn3vwcii0573ijkbo7sb.fits', 'jwst_nircam_f405n_moda_trans.fits'),\n",
    "         ('https://stsci.box.com/shared/static/77w780bfxtxess80a6p0zsaykj49p6mx.fits', 'jwst_nircam_f405n_modb_trans.fits'),\n",
    "         ('https://stsci.box.com/shared/static/wb8cdpdxml8fjqbz118ohmhqydfy95eu.fits', 'jwst_nircam_f405n_trans.fits'),\n",
    "         ('https://stsci.box.com/shared/static/5i3hdxhswzi98eunjajscxxxj9i9pv4e.fits', 'jwst_nircam_f410m_moda_trans.fits'),\n",
    "         ('https://stsci.box.com/shared/static/wh1gxudiw5bx9du0ch85wl55mkd2304c.fits', 'jwst_nircam_f410m_modb_trans.fits'),\n",
    "         ('https://stsci.box.com/shared/static/cwqu9d7fars0o8jxn0fi559sc82h8u0s.fits', 'jwst_nircam_f410m_trans.fits'),\n",
    "         ('https://stsci.box.com/shared/static/i1q4on0xoh86uqtwhg1czp4k66ui9af5.fits', 'jwst_nircam_f430m_moda_trans.fits'),\n",
    "         ('https://stsci.box.com/shared/static/afm1b6sjgjc18as5ldszatgesmle97z2.fits', 'jwst_nircam_f430m_modb_trans.fits'),\n",
    "         ('https://stsci.box.com/shared/static/q2jn74ra7oi4lgklpv6b0y75sjytguqf.fits', 'jwst_nircam_f430m_trans.fits'),\n",
    "         ('https://stsci.box.com/shared/static/z7s8qsejqyqaupfk3rwf1bxg5xcknu5o.fits', 'jwst_nircam_f444w_moda_trans.fits'),\n",
    "         ('https://stsci.box.com/shared/static/q9aeblatsq9p5lzgq9g2rzryfjg201r7.fits', 'jwst_nircam_f444w_modb_trans.fits'),\n",
    "         ('https://stsci.box.com/shared/static/xnl9t1xf3md1wzljb1lu9t8s1jgssxvg.fits', 'jwst_nircam_f444w_trans.fits'),\n",
    "         ('https://stsci.box.com/shared/static/sm91chlb3bx5bi681bew3g7q7j953r97.fits', 'jwst_nircam_f460m_moda_trans.fits'),\n",
    "         ('https://stsci.box.com/shared/static/lfrcunsgb9j5zkv1ndw76rfzs8i2qmib.fits', 'jwst_nircam_f460m_modb_trans.fits'),\n",
    "         ('https://stsci.box.com/shared/static/46ggp89lwcap1e1t6l4e9hubr7wwlm9b.fits', 'jwst_nircam_f460m_trans.fits'),\n",
    "         ('https://stsci.box.com/shared/static/dyys9qu87xs4fos558jduxmm4ie498g8.fits', 'jwst_nircam_f466n_moda_trans.fits'),\n",
    "         ('https://stsci.box.com/shared/static/0286ejhytmm17edmb6wsdoe4gwaycti7.fits', 'jwst_nircam_f466n_modb_trans.fits'),\n",
    "         ('https://stsci.box.com/shared/static/6rtqsgk5hvq7gzwa6i6ezbuc7xc1mgtw.fits', 'jwst_nircam_f466n_trans.fits'),\n",
    "         ('https://stsci.box.com/shared/static/4x8x01ihh8qscll6ol4ds5lmgag9b2iy.fits', 'jwst_nircam_f470n_moda_trans.fits'),\n",
    "         ('https://stsci.box.com/shared/static/4hk9vtkqporxj98ay7h9jfnx3cky97aa.fits', 'jwst_nircam_f470n_modb_trans.fits'),\n",
    "         ('https://stsci.box.com/shared/static/e0v1oim4u8lqdtpetsminmlkae73ccp1.fits', 'jwst_nircam_f470n_trans.fits'),\n",
    "         ('https://stsci.box.com/shared/static/ucg4cdwf566xaorpdv3utrykhvkld2gs.fits', 'jwst_nircam_f480m_moda_trans.fits'),\n",
    "         ('https://stsci.box.com/shared/static/qefjdc97u8mz18uu2nc513a2yxrqm6jh.fits', 'jwst_nircam_f480m_modb_trans.fits'),\n",
    "         ('https://stsci.box.com/shared/static/kdttpdh2krrco6tno2tvroi6om87xfkk.fits', 'jwst_nircam_f480m_trans.fits')]\n"
   ]
  },
  {
   "cell_type": "code",
   "execution_count": null,
   "metadata": {},
   "outputs": [],
   "source": [
    "def download_file(url, file_name, output_directory='./', overwrite=False):\n",
    "    \"\"\"Download a file from Box given the direct URL\n",
    "\n",
    "    Parameters\n",
    "    ----------\n",
    "    url : str\n",
    "        URL to the file to be downloaded\n",
    "        \n",
    "    file_name : str\n",
    "        The name of the file being downloaded\n",
    "        \n",
    "    output_directory : str\n",
    "        Directory to download file_name into\n",
    "        \n",
    "    overwrite : str\n",
    "        If False and the file to download already exists, the download\n",
    "        will be skipped. If True, the file will be downloaded regardless\n",
    "        of whether it already exists in output_directory\n",
    "\n",
    "    Returns\n",
    "    -------\n",
    "    download_filename : str\n",
    "        Name of the downloaded file\n",
    "    \"\"\"\n",
    "    download_filename = os.path.join(output_directory, file_name)\n",
    "    if not os.path.isfile(download_filename) or overwrite is True:\n",
    "        print(\"Downloading {}\".format(file_name))\n",
    "        with requests.get(url, stream=True) as response:\n",
    "            if response.status_code != 200:\n",
    "                raise RuntimeError(\"Wrong URL - {}\".format(url))\n",
    "            with open(download_filename, 'wb') as f:\n",
    "                for chunk in response.iter_content(chunk_size=2048):\n",
    "                    if chunk:\n",
    "                        f.write(chunk)\n",
    "    else:\n",
    "        print(\"{} already exists. Skipping download.\".format(download_filename))\n",
    "    return download_filename"
   ]
  },
  {
   "cell_type": "markdown",
   "metadata": {},
   "source": [
    "#### Load the data\n",
    "\n",
    "(The next cell assumes you downloaded the data into your ```Users/$(logname)/``` home directory)"
   ]
  },
  {
   "cell_type": "code",
   "execution_count": null,
   "metadata": {},
   "outputs": [],
   "source": [
    "if os.environ.get('LOGNAME') is None:\n",
    "    raise ValueError(\"WARNING: LOGNAME environment variable not set!\")"
   ]
  },
  {
   "cell_type": "code",
   "execution_count": null,
   "metadata": {},
   "outputs": [],
   "source": [
    "box_directory = os.path.join(\"/Users/\", os.environ['LOGNAME'], \"box_data\")   \n",
    "box_directory"
   ]
  },
  {
   "cell_type": "code",
   "execution_count": null,
   "metadata": {},
   "outputs": [],
   "source": [
    "if not os.path.isdir(box_directory):\n",
    "    try:\n",
    "        os.mkdir(box_directory)\n",
    "    except:\n",
    "        raise OSError(\"Unable to create {}\".format(box_directory))"
   ]
  },
  {
   "cell_type": "code",
   "execution_count": null,
   "metadata": {},
   "outputs": [],
   "source": [
    "for file_info in files:\n",
    "    file_url, filename = file_info\n",
    "    outfile = download_file(file_url, filename, output_directory=box_directory)"
   ]
  },
  {
   "cell_type": "code",
   "execution_count": null,
   "metadata": {},
   "outputs": [],
   "source": [
    "filters = [\"F250M\",\"F277W\",\"F300M\",\"F322W2\",\"F335M\",\"F356W\",\"F360M\",\"F410M\",\"F430M\",\"F444W\",\"F460M\",\"F480M\"]\n",
    "\n",
    "# NIRCAM grism throughputs given to Nor by Tom Greene (November 17, 2017):\n",
    "# First order\n",
    "modAm1 = np.array([0.240,0.306,0.374,0.437,0.494,0.543,0.585,0.620,0.648,0.670,0.686,0.696,0.702,0.705,0.703,0.702,0.694,0.685,0.674,0.661,0.649,0.636,0.621,0.609,0.593,0.579,0.566])\n",
    "modBm1 = np.array([0.178,0.226,0.276,0.323,0.365,0.401,0.432,0.458,0.479,0.495,0.507,0.514,0.519,0.521,0.520,0.518,0.513,0.506,0.498,0.489,0.479,0.470,0.459,0.450,0.438,0.428,0.418])\n",
    "# Second order\n",
    "modAm2 = np.array([0.387,0.283,0.210,0.151,0.109,0.079,0.056,0.037,0.024,0.015,0.011,0.005,0.002,0.000,0.000,0.001,0.001,0.001,0.002,0.003,0.005,0.008,0.010,0.011,0.012,0.013,0.014])\n",
    "modBm2 = np.array([0.286,0.209,0.155,0.111,0.080,0.058,0.041,0.027,0.018,0.011,0.008,0.004,0.002,0.000,0.000,0.001,0.001,0.001,0.002,0.002,0.004,0.006,0.007,0.008,0.009,0.010,0.010])\n",
    "# Blaze wavelength\n",
    "blaze_w = np.array([2.40,2.50,2.60,2.70,2.80,2.90,3.00,3.10,3.20,3.30,3.40,3.50,3.60,3.70,3.80,3.90,4.00,4.10,4.20,4.30,4.40,4.50,4.60,4.70,4.80,4.90,5.00])"
   ]
  },
  {
   "cell_type": "code",
   "execution_count": null,
   "metadata": {},
   "outputs": [],
   "source": [
    "# Include JWST optics? \n",
    "NRC_plus_OTE = True"
   ]
  },
  {
   "cell_type": "markdown",
   "metadata": {},
   "source": [
    "## Generate the Second Order Throughput Response Plot"
   ]
  },
  {
   "cell_type": "code",
   "execution_count": null,
   "metadata": {
    "scrolled": false
   },
   "outputs": [],
   "source": [
    "NUM_COLORS = len(filters)\n",
    "\n",
    "cm = pylab.get_cmap('tab10')\n",
    "\n",
    "f, ax1 = plt.subplots(1, figsize=(15, 10))\n",
    "\n",
    "for i,fil in zip(range(NUM_COLORS),filters):\n",
    "    if 'W' in fil:\n",
    "        color = cm(1.*i/NUM_COLORS)    \n",
    "\n",
    "        if NRC_plus_OTE:\n",
    "\n",
    "            wav, thpt = np.loadtxt(os.path.join(box_directory, fil+'_NRC_and_OTE_ModAB_mean.txt'), unpack=True, skiprows=1)\n",
    "            data = S.ArrayBandpass(wav, thpt, name=fil)\n",
    "            \n",
    "        else:\n",
    "\n",
    "            data = S.FileBandpass(os.path.join(box_directory, 'jwst_nircam_'+fil.lower()+'_moda_trans.fits'))\n",
    "\n",
    "        maxval = 0.003\n",
    "        ax1.plot(data.wave[data.throughput > maxval],data.throughput[data.throughput > maxval],lw=3,label=fil)\n",
    "\n",
    "ax1.text(1.94, 0.3, 'LW B grism',color='black',alpha=0.65,fontsize=20)        \n",
    "ax1.text(1.94, 0.37, 'LW A grism',color='black',fontsize=20)          \n",
    "\n",
    "ax1.plot(blaze_w,modAm2,color='black',marker='s',markersize=7)\n",
    "ax1.plot(blaze_w,modBm2,color='grey',marker='<',markersize=7)\n",
    "\n",
    "miny,maxy = ax1.get_ylim()\n",
    "minx,maxx = ax1.get_xlim()\n",
    "ax1.legend(bbox_to_anchor=(0.16, 1),fontsize=15)\n",
    "ax1.set_xlim(minx-0.34,maxx-0.09)\n",
    "ax1.tick_params(labelsize=18)\n",
    "f.text(0.5, 0.04, 'Wavelength ($\\mu m$)', ha='center', fontsize=22)\n",
    "f.text(0.05, 0.5, 'Throughput', va='center', rotation='vertical', fontsize=22)"
   ]
  },
  {
   "cell_type": "markdown",
   "metadata": {},
   "source": [
    "### Figure option 2: all filters"
   ]
  },
  {
   "cell_type": "code",
   "execution_count": null,
   "metadata": {},
   "outputs": [],
   "source": [
    "NUM_COLORS = len(filters)\n",
    "\n",
    "cm = pylab.get_cmap('tab10')\n",
    "\n",
    "f, ax1 = plt.subplots(1, figsize=(15, 10))\n",
    "\n",
    "\n",
    "for i,fil in zip(range(NUM_COLORS),filters):\n",
    "    color = cm(1.*i/NUM_COLORS)    \n",
    "    \n",
    "    if NRC_plus_OTE:\n",
    "\n",
    "        wav, thpt = np.loadtxt(os.path.join(box_directory, fil+'_NRC_and_OTE_ModAB_mean.txt'), unpack=True, skiprows=1)\n",
    "        data = S.ArrayBandpass(wav, thpt, name=fil)\n",
    "\n",
    "    else:\n",
    "\n",
    "        data = S.FileBandpass(os.path.join(box_directory, 'jwst_nircam_'+fil.lower()+'_moda_trans.fits'))\n",
    "    \n",
    "    maxval = 0.003\n",
    "    ax1.plot(data.wave[data.throughput > maxval],data.throughput[data.throughput > maxval],lw=3,label=fil,color=color)\n",
    "\n",
    "ax1.text(1.94, 0.3, 'LW B grism',color='black',alpha=0.65,fontsize=20)        \n",
    "ax1.text(1.94, 0.37, 'LW A grism',color='black',fontsize=20)        \n",
    "\n",
    "ax1.plot(blaze_w,modAm2,color='black',marker='s',markersize=7)\n",
    "ax1.plot(blaze_w,modBm2,color='grey',marker='<',markersize=7)\n",
    "\n",
    "miny,maxy = ax1.get_ylim()\n",
    "minx,maxx = ax1.get_xlim()\n",
    "ax1.legend(bbox_to_anchor=(1., 1.013),fontsize=15)\n",
    "ax1.set_xlim(minx-0.34,maxx-0.09)\n",
    "ax1.tick_params(labelsize=18)\n",
    "f.text(0.5, 0.04, 'Wavelength ($\\mu m$)', ha='center', fontsize=22)\n",
    "f.text(0.05, 0.5, 'Throughput', va='center', rotation='vertical', fontsize=22)"
   ]
  },
  {
   "cell_type": "markdown",
   "metadata": {},
   "source": [
    "## Issues"
   ]
  },
  {
   "cell_type": "markdown",
   "metadata": {},
   "source": [
    "* None"
   ]
  },
  {
   "cell_type": "markdown",
   "metadata": {},
   "source": [
    "## About this Notebook\n",
    "**Authors:**   \n",
    "Nor Pirzkal & Alicia Canipe\n",
    "\n",
    "**Updated On:**   \n",
    "April 09, 2019"
   ]
  },
  {
   "cell_type": "code",
   "execution_count": null,
   "metadata": {},
   "outputs": [],
   "source": []
  }
 ],
 "metadata": {
  "kernelspec": {
   "display_name": "Python 3",
   "language": "python",
   "name": "python3"
  },
  "language_info": {
   "codemirror_mode": {
    "name": "ipython",
    "version": 3
   },
   "file_extension": ".py",
   "mimetype": "text/x-python",
   "name": "python",
   "nbconvert_exporter": "python",
   "pygments_lexer": "ipython3",
   "version": "3.6.7"
  }
 },
 "nbformat": 4,
 "nbformat_minor": 1
}
