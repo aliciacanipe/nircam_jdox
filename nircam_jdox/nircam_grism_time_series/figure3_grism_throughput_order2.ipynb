{
 "cells": [
  {
   "cell_type": "markdown",
   "metadata": {},
   "source": [
    "# Figure 3: Grism Throughput Response for LW Filters ($2^{nd}$ Order)"
   ]
  },
  {
   "cell_type": "markdown",
   "metadata": {},
   "source": [
    "***\n",
    "### Table of Contents\n",
    "\n",
    "1. [Information](#Information)\n",
    "2. [Imports](#Imports)\n",
    "3. [Data](#Data)\n",
    "4. [Generate the Second Order Throughput Response Plot](#Generate-the-Second-Order-Throughput-Response-Plot)\n",
    "5. [Issues](#Issues)\n",
    "6. [About this Notebook](#About-this-Notebook)\n",
    "***"
   ]
  },
  {
   "cell_type": "markdown",
   "metadata": {},
   "source": [
    "## Information"
   ]
  },
  {
   "cell_type": "markdown",
   "metadata": {},
   "source": [
    "#### JDox links: \n",
    "* [NIRCam Grism Time Series](https://jwst-docs.stsci.edu/display/JTI/NIRCam+Grism+Time+Series#NIRCamGrismTimeSeries-Filters)\n",
    "    * Figure 3: Throughput response for NIRCam grism and long wavelength filters ($2^{nd}$ order)"
   ]
  },
  {
   "cell_type": "markdown",
   "metadata": {},
   "source": [
    "## Imports"
   ]
  },
  {
   "cell_type": "code",
   "execution_count": null,
   "metadata": {},
   "outputs": [],
   "source": [
    "import pylab\n",
    "import numpy as np\n",
    "import pysynphot as S\n",
    "from astropy.io import ascii\n",
    "from astropy.table import Table\n",
    "import matplotlib.pyplot as plt\n",
    "%matplotlib inline"
   ]
  },
  {
   "cell_type": "markdown",
   "metadata": {},
   "source": [
    "## Data"
   ]
  },
  {
   "cell_type": "markdown",
   "metadata": {},
   "source": [
    "#### Data Location: \n",
    "```/ifs/jwst/wit/witserv/data7/nrc/JDoxPlots/data/```\n",
    "\n",
    "(and in notebook)"
   ]
  },
  {
   "cell_type": "code",
   "execution_count": null,
   "metadata": {},
   "outputs": [],
   "source": [
    "datadir = \"/ifs/jwst/wit/witserv/data7/nrc/JDoxPlots/data/\"\n",
    "\n",
    "filters = [\"F250M\",\"F277W\",\"F300M\",\"F322W2\",\"F335M\",\"F356W\",\"F360M\",\"F410M\",\"F430M\",\"F444W\",\"F460M\",\"F480M\"]\n",
    "\n",
    "# NIRCAM grism throughputs given to Nor by Tom Greene:\n",
    "# First order\n",
    "modAm1 = np.array([0.240,0.306,0.374,0.437,0.494,0.543,0.585,0.620,0.648,0.670,0.686,0.696,0.702,0.705,0.703,0.702,0.694,0.685,0.674,0.661,0.649,0.636,0.621,0.609,0.593,0.579,0.566])\n",
    "modBm1 = np.array([0.178,0.226,0.276,0.323,0.365,0.401,0.432,0.458,0.479,0.495,0.507,0.514,0.519,0.521,0.520,0.518,0.513,0.506,0.498,0.489,0.479,0.470,0.459,0.450,0.438,0.428,0.418])\n",
    "# Second order\n",
    "modAm2 = np.array([0.387,0.283,0.210,0.151,0.109,0.079,0.056,0.037,0.024,0.015,0.011,0.005,0.002,0.000,0.000,0.001,0.001,0.001,0.002,0.003,0.005,0.008,0.010,0.011,0.012,0.013,0.014])\n",
    "modBm2 = np.array([0.286,0.209,0.155,0.111,0.080,0.058,0.041,0.027,0.018,0.011,0.008,0.004,0.002,0.000,0.000,0.001,0.001,0.001,0.002,0.002,0.004,0.006,0.007,0.008,0.009,0.010,0.010])\n",
    "# Blaze wavelength\n",
    "blaze_w = np.array([2.40,2.50,2.60,2.70,2.80,2.90,3.00,3.10,3.20,3.30,3.40,3.50,3.60,3.70,3.80,3.90,4.00,4.10,4.20,4.30,4.40,4.50,4.60,4.70,4.80,4.90,5.00])"
   ]
  },
  {
   "cell_type": "code",
   "execution_count": null,
   "metadata": {},
   "outputs": [],
   "source": [
    "# Include JWST optics? \n",
    "NRC_plus_OTE = True"
   ]
  },
  {
   "cell_type": "markdown",
   "metadata": {},
   "source": [
    "## Generate the Second Order Throughput Response Plot"
   ]
  },
  {
   "cell_type": "code",
   "execution_count": null,
   "metadata": {
    "scrolled": false
   },
   "outputs": [],
   "source": [
    "NUM_COLORS = len(filters)\n",
    "\n",
    "cm = pylab.get_cmap('tab10')\n",
    "\n",
    "f, ax1 = plt.subplots(1, figsize=(15, 10))\n",
    "\n",
    "for i,fil in zip(range(NUM_COLORS),filters):\n",
    "    if 'W' in fil:\n",
    "        color = cm(1.*i/NUM_COLORS)    \n",
    "\n",
    "        if NRC_plus_OTE:\n",
    "\n",
    "            wav, thpt = np.loadtxt(datadir+fil+'_NRC_and_OTE_ModAB_mean.txt', unpack=True, skiprows=1)\n",
    "            data = S.ArrayBandpass(wav, thpt, name=fil)\n",
    "            \n",
    "        else:\n",
    "\n",
    "            data = S.FileBandpass(datadir+'jwst_nircam_'+fil.lower()+'_moda_trans.fits')\n",
    "\n",
    "        maxval = 0.003\n",
    "        ax1.plot(data.wave[data.throughput > maxval],data.throughput[data.throughput > maxval],lw=3,label=fil)\n",
    "\n",
    "ax1.text(1.94, 0.3, 'LW B grism',color='black',alpha=0.65,fontsize=20)        \n",
    "ax1.text(1.94, 0.37, 'LW A grism',color='black',fontsize=20)          \n",
    "\n",
    "ax1.plot(blaze_w,modAm2,color='black',marker='s',markersize=7)\n",
    "ax1.plot(blaze_w,modBm2,color='grey',marker='<',markersize=7)\n",
    "\n",
    "miny,maxy = ax1.get_ylim()\n",
    "minx,maxx = ax1.get_xlim()\n",
    "ax1.legend(bbox_to_anchor=(0.16, 1),fontsize=15)\n",
    "ax1.set_xlim(minx-0.34,maxx-0.09)\n",
    "ax1.tick_params(labelsize=18)\n",
    "f.text(0.5, 0.04, 'Wavelength ($\\mu m$)', ha='center', fontsize=22)\n",
    "f.text(0.05, 0.5, 'Throughput', va='center', rotation='vertical', fontsize=22)"
   ]
  },
  {
   "cell_type": "markdown",
   "metadata": {},
   "source": [
    "### Figure option 2: all filters"
   ]
  },
  {
   "cell_type": "code",
   "execution_count": null,
   "metadata": {},
   "outputs": [],
   "source": [
    "NUM_COLORS = len(filters)\n",
    "\n",
    "cm = pylab.get_cmap('tab10')\n",
    "\n",
    "f, ax1 = plt.subplots(1, figsize=(15, 10))\n",
    "\n",
    "\n",
    "for i,fil in zip(range(NUM_COLORS),filters):\n",
    "    color = cm(1.*i/NUM_COLORS)    \n",
    "    \n",
    "    if NRC_plus_OTE:\n",
    "\n",
    "        wav, thpt = np.loadtxt(datadir+fil+'_NRC_and_OTE_ModAB_mean.txt', unpack=True, skiprows=1)\n",
    "        data = S.ArrayBandpass(wav, thpt, name=fil)\n",
    "\n",
    "    else:\n",
    "\n",
    "        data = S.FileBandpass(datadir+'jwst_nircam_'+fil.lower()+'_moda_trans.fits')\n",
    "    \n",
    "    maxval = 0.003\n",
    "    ax1.plot(data.wave[data.throughput > maxval],data.throughput[data.throughput > maxval],lw=3,label=fil,color=color)\n",
    "\n",
    "ax1.text(1.94, 0.3, 'LW B grism',color='black',alpha=0.65,fontsize=20)        \n",
    "ax1.text(1.94, 0.37, 'LW A grism',color='black',fontsize=20)        \n",
    "\n",
    "ax1.plot(blaze_w,modAm2,color='black',marker='s',markersize=7)\n",
    "ax1.plot(blaze_w,modBm2,color='grey',marker='<',markersize=7)\n",
    "\n",
    "miny,maxy = ax1.get_ylim()\n",
    "minx,maxx = ax1.get_xlim()\n",
    "ax1.legend(bbox_to_anchor=(1., 1.013),fontsize=15)\n",
    "ax1.set_xlim(minx-0.34,maxx-0.09)\n",
    "ax1.tick_params(labelsize=18)\n",
    "f.text(0.5, 0.04, 'Wavelength ($\\mu m$)', ha='center', fontsize=22)\n",
    "f.text(0.05, 0.5, 'Throughput', va='center', rotation='vertical', fontsize=22)"
   ]
  },
  {
   "cell_type": "markdown",
   "metadata": {},
   "source": [
    "## Issues"
   ]
  },
  {
   "cell_type": "markdown",
   "metadata": {},
   "source": [
    "* None"
   ]
  },
  {
   "cell_type": "markdown",
   "metadata": {},
   "source": [
    "## About this Notebook\n",
    "**Authors:**   \n",
    "Nor Pirzkal & Alicia Canipe\n",
    "\n",
    "**Updated On:**   \n",
    "April 09, 2019"
   ]
  },
  {
   "cell_type": "code",
   "execution_count": null,
   "metadata": {},
   "outputs": [],
   "source": []
  }
 ],
 "metadata": {
  "kernelspec": {
   "display_name": "Python 3",
   "language": "python",
   "name": "python3"
  },
  "language_info": {
   "codemirror_mode": {
    "name": "ipython",
    "version": 3
   },
   "file_extension": ".py",
   "mimetype": "text/x-python",
   "name": "python",
   "nbconvert_exporter": "python",
   "pygments_lexer": "ipython3",
   "version": "3.5.5"
  }
 },
 "nbformat": 4,
 "nbformat_minor": 1
}
