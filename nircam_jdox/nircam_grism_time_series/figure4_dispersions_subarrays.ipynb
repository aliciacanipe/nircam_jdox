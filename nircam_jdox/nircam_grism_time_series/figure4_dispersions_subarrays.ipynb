{
 "cells": [
  {
   "cell_type": "markdown",
   "metadata": {},
   "source": [
    "# Figure 4: Grism Dispersions Within a Grism Detector Subarray"
   ]
  },
  {
   "cell_type": "markdown",
   "metadata": {},
   "source": [
    "***\n",
    "### Table of Contents\n",
    "\n",
    "1. [Information](#Information)\n",
    "2. [Imports](#Imports)\n",
    "3. [Data](#Data)\n",
    "4. [Generate the Grism Dispersions Within Subarrays Plot](#Generate-the-Grism-Dispersions-Within-Subarrays-Plot)\n",
    "5. [Issues](#Issues)\n",
    "6. [About this Notebook](#About-this-Notebook)\n",
    "***"
   ]
  },
  {
   "cell_type": "markdown",
   "metadata": {},
   "source": [
    "## Information"
   ]
  },
  {
   "cell_type": "markdown",
   "metadata": {},
   "source": [
    "#### JDox links: \n",
    "* [NIRCam Grism Time Series](https://jwst-docs.stsci.edu/display/JTI/NIRCam+Grism+Time+Series#NIRCamGrismTimeSeries-#DispersionDispersion)\n",
    "    * Figure 4. Grism dispersions within a grism detector subarray"
   ]
  },
  {
   "cell_type": "markdown",
   "metadata": {},
   "source": [
    "## Imports"
   ]
  },
  {
   "cell_type": "code",
   "execution_count": 1,
   "metadata": {},
   "outputs": [],
   "source": [
    "import os\n",
    "import numpy as np\n",
    "import pandas as pd\n",
    "from astropy.io import ascii, fits\n",
    "import matplotlib.patches as patches\n",
    "import matplotlib.pyplot as plt\n",
    "import grismconf\n",
    "from itertools import product\n",
    "\n",
    "%matplotlib notebook"
   ]
  },
  {
   "cell_type": "markdown",
   "metadata": {},
   "source": [
    "## Data"
   ]
  },
  {
   "cell_type": "markdown",
   "metadata": {},
   "source": [
    "#### Data Location: \n",
    "\n",
    "In notebook (TBD: use Nor Pirzkal's [grismconf](https://github.com/npirzkal/GRISMCONF) code to create figure parameters)"
   ]
  },
  {
   "cell_type": "code",
   "execution_count": 2,
   "metadata": {},
   "outputs": [],
   "source": [
    "datadir = '/user/gennaro/Functional_work/NIRCam_GRISM_viz/GRISM_NIRCAM_config_data/'"
   ]
  },
  {
   "cell_type": "markdown",
   "metadata": {},
   "source": [
    "### Initial Setup"
   ]
  },
  {
   "cell_type": "markdown",
   "metadata": {},
   "source": [
    "### Define the wavelength range as the range for which the sensitivity is larger than a given fraction of the maximum"
   ]
  },
  {
   "cell_type": "code",
   "execution_count": 3,
   "metadata": {},
   "outputs": [],
   "source": [
    "facs = [0.5,0.01]\n",
    "exts = [{} for fac in facs]\n",
    "\n",
    "filters = [\"F277W\",\"F322W2\",\"F356W\",\"F444W\"]\n",
    "orders = ['1st']\n",
    "modules = ['A']\n",
    "orients = ['R']\n",
    "\n",
    "for fac, ext in zip(facs,exts):\n",
    "    for j,filt in enumerate(filters):\n",
    "\n",
    "        for orient,module, order in product(orients,modules,orders):\n",
    "            fname = 'NIRCam.{}.{}.{}.{}.sensitivity.fits'.format(filt,orient,module,order)\n",
    "\n",
    "            h = fits.open(datadir+fname)\n",
    "            imax = np.argmax(h[1].data['SENSITIVITY'])\n",
    "            BM = h[1].data['SENSITIVITY'] >= fac*h[1].data['SENSITIVITY'][imax]\n",
    "            ilow = np.nonzero(BM)[0][0]\n",
    "            ihigh = np.nonzero(BM)[0][-1]\n",
    "            \n",
    "            if ( (orient == 'R') and (module=='A') and (order == '1st')):\n",
    "#             if ( (orient == 'R') and (module=='A')):\n",
    "                ext[filt] = [h[1].data['WAVELENGTH'][ilow],h[1].data['WAVELENGTH'][ihigh]]\n"
   ]
  },
  {
   "cell_type": "markdown",
   "metadata": {},
   "source": [
    "#### For the given filter/module/order/orient combo, use grismconf to get the (x,y) position of the spectra extrema w.r.t. the undeflected wavelength of 3.95 $\\mu$m"
   ]
  },
  {
   "cell_type": "code",
   "execution_count": 4,
   "metadata": {},
   "outputs": [],
   "source": [
    "xys = {\"F277W\":(1581,280),\n",
    "       \"F322W2\":(1581,280),\n",
    "       \"F356W\":(1581,280),            \n",
    "       \"F444W\":(952,280),\n",
    "      }\n",
    "orders = ['+1']"
   ]
  },
  {
   "cell_type": "code",
   "execution_count": 5,
   "metadata": {},
   "outputs": [
    {
     "name": "stdout",
     "output_type": "stream",
     "text": [
      "0.5 F277W A R +1\n",
      "{'xstart': 195.04382490517423, 'ystart': 280.0, 'xend': 779.2071718275881, 'yend': 280.0, 'mustart': 2.545500000000002, 'muend': 3.132000000000002}\n",
      "0.5 F322W2 A R +1\n",
      "{'xstart': 764.7649399166687, 'ystart': 280.0, 'xend': 1657.1952187144082, 'yend': 280.0, 'mustart': 3.117500000000002, 'muend': 4.013500000000001}\n",
      "0.5 F356W A R +1\n",
      "{'xstart': 804.6055781037758, 'ystart': 280.0, 'xend': 1624.8247012754741, 'yend': 280.0, 'mustart': 3.157500000000002, 'muend': 3.981000000000002}\n",
      "0.5 F444W A R +1\n",
      "{'xstart': 896.7211159193461, 'ystart': 280.0, 'xend': 1994.8286859065718, 'yend': 280.0, 'mustart': 3.881500000000003, 'muend': 4.984000000000003}\n",
      "0.01 F277W A R +1\n",
      "{'xstart': 28.709163462645165, 'ystart': 280.0, 'xend': 871.8366539482778, 'yend': 280.0, 'mustart': 2.3785000000000016, 'muend': 3.225000000000002}\n",
      "0.01 F322W2 A R +1\n",
      "{'xstart': 44.14741010621674, 'ystart': 280.0, 'xend': 1766.7569716918097, 'yend': 280.0, 'mustart': 2.394000000000002, 'muend': 4.123500000000002}\n",
      "0.01 F356W A R +1\n",
      "{'xstart': 721.9362554283043, 'ystart': 280.0, 'xend': 1722.434262988682, 'yend': 280.0, 'mustart': 3.0745000000000022, 'muend': 4.079000000000002}\n",
      "0.01 F444W A R +1\n",
      "{'xstart': 818.0358569361342, 'ystart': 280.0, 'xend': 2130.2868532700754, 'yend': 280.0, 'mustart': 3.802500000000003, 'muend': 5.120000000000003}\n"
     ]
    }
   ],
   "source": [
    "positions = {}\n",
    "configs = {}\n",
    "\n",
    "\n",
    "for (ext,fac),filt,orient,module, order in product(zip(exts,facs),filters,orients,modules,orders):\n",
    "\n",
    "    pos = {}\n",
    "    C = grismconf.Config(datadir+'/NIRCAM_{}_mod{}_{}.conf'.format(filt,module,orient))\n",
    "\n",
    "    x,y = xys[filt]\n",
    "\n",
    "    tmin = C.INVDISPL(\"+1\",100,100,ext[filt][0])\n",
    "    tmax = C.INVDISPL(\"+1\",100,100,ext[filt][1])\n",
    "\n",
    "    \n",
    "    dx0 = C.DISPX(order,x,y,tmin)\n",
    "    dx1 = C.DISPX(order,x,y,tmax)\n",
    "    dy0 = C.DISPY(order,x,y,tmin)\n",
    "    dy1 = C.DISPY(order,x,y,tmax)\n",
    "\n",
    "    mu0 = C.DISPL(order,x,y,tmin)\n",
    "    mu1 = C.DISPL(order,x,y,tmax)\n",
    "\n",
    "    \n",
    "    pos['xstart'] = x+dx0\n",
    "    pos['ystart'] = y+dy0\n",
    "    pos['xend'] = x+dx1\n",
    "    pos['yend'] = y+dy1\n",
    "    pos['mustart'] = mu0\n",
    "    pos['muend'] = mu1\n",
    "\n",
    "    print(fac,filt,module,orient,order)\n",
    "    print(pos)\n",
    "\n",
    "    key = '{}_{}_{}_{}_{}'.format(fac,filt,module,orient,order)\n",
    "    positions[key] = pos\n",
    "    configs[key] = C"
   ]
  },
  {
   "cell_type": "code",
   "execution_count": 6,
   "metadata": {},
   "outputs": [
    {
     "name": "stdout",
     "output_type": "stream",
     "text": [
      "0.9221664228743364\n",
      "5.033367999337841\n",
      "0.21656909396500593\n"
     ]
    }
   ],
   "source": [
    "fac,filt,module,orient,order = facs[0],\"F444W\",\"A\",\"R\",\"+1\"\n",
    "\n",
    "key = '{}_{}_{}_{}_{}'.format(fac,filt,module,orient,order)\n",
    "C = configs[key]\n",
    "\n",
    "ts = C.INVDISPX(\"+1\",952,100,2044-952)\n",
    "wave = C.DISPL(order,952,100,ts)\n",
    "\n",
    "print(ts)\n",
    "print(wave)\n",
    "\n",
    "\n",
    "fname = 'NIRCam.{}.{}.{}.{}.sensitivity.fits'.format(filt,orient,module,'1st')\n",
    "\n",
    "\n",
    "h = fits.open(datadir+fname)\n",
    "imax = np.argmax(h[1].data['SENSITIVITY'])\n",
    "BM = h[1].data['WAVELENGTH'] >= wave\n",
    "\n",
    "print(h[1].data['SENSITIVITY'][np.nonzero(BM)[0][0]]/h[1].data['SENSITIVITY'][imax])\n",
    "      \n",
    "      "
   ]
  },
  {
   "cell_type": "code",
   "execution_count": 7,
   "metadata": {},
   "outputs": [],
   "source": [
    "### Function to make the top axis (micron) relate to the botoom one (pixels)\n",
    "\n",
    "def pixtomu(dxvals,x0,y0,C,order):\n",
    "    \n",
    "    ts = C.INVDISPX(order,x0,y0,dxvals)\n",
    "    # Compute wavelength of each of the pixels\n",
    "    wavs = C.DISPL(order,x0,y0,ts)\n",
    "\n",
    "    return np.array(wavs)\n",
    "\n",
    "def mutopix(muvals,x0,y0,C,order):\n",
    "    ts = C.INVDISPL(order,x0,y0,muvals)\n",
    "\n",
    "    dxs = C.DISPX(order,x0,y0,ts)\n",
    "\n",
    "    return x0+np.array(dxs)\n"
   ]
  },
  {
   "cell_type": "code",
   "execution_count": 8,
   "metadata": {},
   "outputs": [],
   "source": [
    "plt.style.use('bmh')\n",
    "plt.rcParams['font.family'] = 'Times New Roman'\n",
    "plt.rcParams['font.size'] = 18\n",
    "plt.rcParams['axes.labelsize'] = 18\n",
    "plt.rcParams['axes.labelweight'] = 'normal'\n",
    "plt.rcParams['xtick.labelsize'] = 16\n",
    "plt.rcParams['ytick.labelsize'] = 16\n",
    "plt.rcParams['legend.fontsize'] = 12\n",
    "plt.rcParams['figure.titlesize'] = 16\n",
    "\n"
   ]
  },
  {
   "cell_type": "code",
   "execution_count": 9,
   "metadata": {
    "scrolled": false
   },
   "outputs": [
    {
     "data": {
      "image/png": "[encoded data removed]",
      "text/plain": [
       "<Figure size 864x432 with 2 Axes>"
      ]
     },
     "metadata": {
      "needs_background": "light"
     },
     "output_type": "display_data"
    }
   ],
   "source": [
    "aspectratio =2.\n",
    "figside = 12\n",
    "\n",
    "f, ax = plt.subplots(1,figsize=(figside, figside/aspectratio))\n",
    "ax2 = ax.twiny()\n",
    "\n",
    "pixvals = np.array([0,2048])\n",
    "muvals = np.arange(2.,5.01,0.5)\n",
    "\n",
    "fac,filt,module,orient,order = facs[0],\"F277W\",\"A\",\"R\",\"+1\"\n",
    "\n",
    "key = '{}_{}_{}_{}_{}'.format(fac,filt,module,orient,order)\n",
    "C = configs[key]\n",
    "x,y = xys[filt]\n",
    "\n",
    "ax2.set_xticks(muvals)\n",
    "ax2.set_xlim(1.95,5.4)\n",
    "ax.set_xlim(mutopix(ax2.get_xlim(),x,y,C,order))\n",
    "\n",
    "xlims = ax.get_xlim()\n",
    "xsize = xlims[1]-xlims[0]\n",
    "ax.set_ylim(0,xsize/aspectratio)\n",
    "\n",
    "for j,filt in enumerate(filters[:3]):\n",
    "    for orient,module, order in product(orients,modules,orders):\n",
    "        for k,fac in enumerate(facs):\n",
    "        \n",
    "            key = '{}_{}_{}_{}_{}'.format(fac,filt,module,orient,order)\n",
    "            pos = positions[key] \n",
    "            x,y = xys[filt]\n",
    "\n",
    "            yref = j*500+150\n",
    "            dy = 256\n",
    "\n",
    "            ax.plot(x, yref+dy/2, 'kx',ms=15)\n",
    "            if order == '+2':\n",
    "                ax.plot([pos['xstart'],pos['xend']],[yref+dy/2,yref+dy/2], 'grey', lw=7/(1+k)) \n",
    "            else:\n",
    "                ax.plot([pos['xstart'],pos['xend']],[yref+dy/2,yref+dy/2], 'k', lw=7/(1+k)) \n",
    "            ax.add_patch(patches.Rectangle((4, yref),2044, dy,fill=False,color='red',lw=4))\n",
    "            ax2.text(1.99,yref+dy/2, filt, va='center', fontsize=18)\n",
    "            \n",
    "\n",
    "ax.set_xlabel('Science pixels',fontsize=18)            \n",
    "ax2.set_xlabel('Wavelength [$\\mu$m]',fontsize=18)            \n",
    "ax.axvline(x,linestyle=':',color='black')\n",
    "ax.set_xticks(np.append(x,pixvals))\n",
    "ax.set_facecolor('#FFFFFF')\n",
    "ax2.set_facecolor('#FFFFFF')\n",
    "ax.grid(False)\n",
    "ax2.grid(False)\n",
    "\n",
    "ax.axes.get_yaxis().set_visible(False)\n",
    "f.tight_layout()\n",
    "# # f.savefig(\"img1.png\")"
   ]
  },
  {
   "cell_type": "code",
   "execution_count": 10,
   "metadata": {
    "scrolled": false
   },
   "outputs": [
    {
     "data": {
      "image/png": "[encoded data removed]",
      "text/plain": [
       "<Figure size 864x288 with 2 Axes>"
      ]
     },
     "metadata": {
      "needs_background": "light"
     },
     "output_type": "display_data"
    }
   ],
   "source": [
    "\n",
    "\n",
    "aspectratio = 3.\n",
    "figside = 12\n",
    "\n",
    "f, ax = plt.subplots(1,figsize=(figside, figside/aspectratio))\n",
    "ax2 = ax.twiny()\n",
    "\n",
    "pixvals = np.array([0,2048])\n",
    "muvals = np.arange(2.,5.01,0.5)\n",
    "\n",
    "filt,module,orient,order = \"F444W\",\"A\",\"R\",\"+1\"\n",
    "\n",
    "key = '{}_{}_{}_{}_{}'.format(fac,filt,module,orient,order)\n",
    "C = configs[key]\n",
    "x,y = xys[filt]\n",
    "\n",
    "ax2.set_xticks(muvals)\n",
    "ax2.set_xlim(1.95,5.4)\n",
    "ax.set_xlim(mutopix(ax2.get_xlim(),x,y,C,order))\n",
    "\n",
    "xlims = ax.get_xlim()\n",
    "xsize = xlims[1]-xlims[0]\n",
    "ax.set_ylim(150,xsize/aspectratio)\n",
    "\n",
    "for j,filt in enumerate(filters[3:]):\n",
    "    for orient,module, order in product(orients,modules,orders):\n",
    "        for k,fac in enumerate(facs):\n",
    "        \n",
    "            key = '{}_{}_{}_{}_{}'.format(fac,filt,module,orient,order)\n",
    "            pos = positions[key] \n",
    "            x,y = xys[filt]\n",
    "\n",
    "            yref = j*500+500\n",
    "            \n",
    "            dy = 256\n",
    "\n",
    "            ax.plot(x, yref+dy/2, 'kx',ms=15)\n",
    "\n",
    "            ax.plot([pos['xstart'],pos['xend']],[yref+dy/2,yref+dy/2], 'k', lw=7/(1+k)) \n",
    "\n",
    "            ax.add_patch(patches.Rectangle((4, yref),2044, dy,fill=False,color='red',lw=4))\n",
    "            ax2.text(2.2,yref+dy/2, filt, va='center', fontsize=18)\n",
    "\n",
    "ax.axvline(x,linestyle=':',color='black')\n",
    "ax.set_xticks(np.append(x,pixvals))\n",
    "\n",
    "ax.set_xlabel('Science pixels',fontsize=18)            \n",
    "ax2.set_xlabel('Wavelength [$\\mu$m]',fontsize=18)            \n",
    "ax.axvline(x,linestyle=':',color='black')\n",
    "ax.set_xticks(np.append(x,pixvals))\n",
    "ax.set_facecolor('#FFFFFF')\n",
    "ax2.set_facecolor('#FFFFFF')\n",
    "ax.grid(False)\n",
    "ax2.grid(False)\n",
    "\n",
    "ax.axes.get_yaxis().set_visible(False)\n",
    "f.tight_layout()\n",
    "# f.savefig(\"img1.png\")"
   ]
  },
  {
   "cell_type": "markdown",
   "metadata": {},
   "source": [
    "## Issues"
   ]
  },
  {
   "cell_type": "markdown",
   "metadata": {},
   "source": [
    "* Need to add data to the Box directory (https://stsci.box.com/s/tf6049a75u6f3uc26q3xu6w8tv456pk7) "
   ]
  },
  {
   "cell_type": "markdown",
   "metadata": {},
   "source": [
    "## About this Notebook\n",
    "**Authors:**   \n",
    "* Mario Gennaro\n",
    "* Dan Coe\n",
    "* Alicia Canipe\n",
    "\n",
    "**Updated On:**   \n",
    "December 30, 2019"
   ]
  }
 ],
 "metadata": {
  "kernelspec": {
   "display_name": "Python 3",
   "language": "python",
   "name": "python3"
  },
  "language_info": {
   "codemirror_mode": {
    "name": "ipython",
    "version": 3
   },
   "file_extension": ".py",
   "mimetype": "text/x-python",
   "name": "python",
   "nbconvert_exporter": "python",
   "pygments_lexer": "ipython3",
   "version": "3.6.7"
  }
 },
 "nbformat": 4,
 "nbformat_minor": 1
}
