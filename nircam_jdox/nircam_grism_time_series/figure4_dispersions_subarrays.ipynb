{
 "cells": [
  {
   "cell_type": "markdown",
   "metadata": {},
   "source": [
    "# Figure 4: Grism Dispersions Within a Grism Detector Subarray"
   ]
  },
  {
   "cell_type": "markdown",
   "metadata": {},
   "source": [
    "***\n",
    "### Table of Contents\n",
    "\n",
    "1. [Information](#Information)\n",
    "2. [Imports](#Imports)\n",
    "3. [Data](#Data)\n",
    "4. [Generate the Grism Dispersions Within Subarrays Plot](#Generate-the-Grism-Dispersions-Within-Subarrays-Plot)\n",
    "5. [Issues](#Issues)\n",
    "6. [About this Notebook](#About-this-Notebook)\n",
    "***"
   ]
  },
  {
   "cell_type": "markdown",
   "metadata": {},
   "source": [
    "## Information"
   ]
  },
  {
   "cell_type": "markdown",
   "metadata": {},
   "source": [
    "#### JDox links: \n",
    "* [NIRCam Grism Time Series](https://jwst-docs.stsci.edu/display/JTI/NIRCam+Grism+Time+Series#NIRCamGrismTimeSeries-#DispersionDispersion)\n",
    "    * Figure 4. Grism dispersions within a grism detector subarray"
   ]
  },
  {
   "cell_type": "markdown",
   "metadata": {},
   "source": [
    "## Imports"
   ]
  },
  {
   "cell_type": "code",
   "execution_count": null,
   "metadata": {},
   "outputs": [],
   "source": [
    "import os\n",
    "import numpy as np\n",
    "import pandas as pd\n",
    "from astropy.io import ascii, fits\n",
    "from astropy.table import Table\n",
    "from scipy.optimize import fmin\n",
    "from scipy.interpolate import interp1d\n",
    "import matplotlib.patches as patches\n",
    "import matplotlib.pyplot as plt\n",
    "%matplotlib inline"
   ]
  },
  {
   "cell_type": "markdown",
   "metadata": {},
   "source": [
    "## Data"
   ]
  },
  {
   "cell_type": "markdown",
   "metadata": {},
   "source": [
    "#### Data Location: \n",
    "\n",
    "In notebook (TBD: use Nor Pirzkal's [grismconf](https://github.com/npirzkal/GRISMCONF) code to create figure parameters)"
   ]
  },
  {
   "cell_type": "markdown",
   "metadata": {},
   "source": [
    "## Generate the Grism Dispersions Within Subarrays Plot"
   ]
  },
  {
   "cell_type": "code",
   "execution_count": null,
   "metadata": {},
   "outputs": [],
   "source": [
    "f, ax1 = plt.subplots(1,figsize=(12, 7))\n",
    "ax3 = ax1.twiny()\n",
    "ax1.plot([2.42, 3.12], [4,4], 'k', lw=3) \n",
    "ax1.plot([2.42, 4.03], [3,3], 'k', lw=3) \n",
    "ax1.plot([3.12, 4.01], [2,2], 'k', lw=3) \n",
    "\n",
    "\n",
    "ms = 14\n",
    "ax1.plot(3.9, 4, 'kx', ms=ms)\n",
    "ax1.plot(3.9, 3, 'kx', ms=ms)\n",
    "ax1.plot(3.9, 2, 'kx', ms=ms)\n",
    "\n",
    "\n",
    "ax1.text(1.5, 4, 'F277W', va='center', fontsize=22)\n",
    "ax1.text(1.5, 3, 'F322W2', va='center', fontsize=22)\n",
    "ax1.text(1.5, 2, 'F356W', va='center', fontsize=22)\n",
    "\n",
    "ax1.text(4.1, 4.65, 'detector subarray', va='center', fontsize=22,color='red')\n",
    "ax1.text(4.18, 4.35, '(2048 x 256 pixels)', va='center', fontsize=18,color='red')\n",
    "ax1.text(3.3, 5.2, 'source position', va='center', fontsize=22,color='black')\n",
    "\n",
    "ax1.plot([2.42, 3.12], [4,4], 'k', lw=3) \n",
    "\n",
    "xticks = ax1.xaxis.get_major_ticks()\n",
    "xticks[0].label1.set_visible(False)\n",
    "\n",
    "ax1.set_xlim(1.25, 5.4)\n",
    "ax1.set_ylim(1, 5.7)\n",
    "\n",
    "ax1.xaxis.tick_top()\n",
    "ax1.xaxis.set_label_position('top') \n",
    "ax1.xaxis.set_ticks_position('both')\n",
    "\n",
    "\n",
    "ax1.tick_params(labelsize=20)\n",
    "ax1.tick_params('y', length=10, width=0.5, which='major')\n",
    "ax1.tick_params('x', length=10, width=0.5, which='major')\n",
    "\n",
    "ax1.add_patch(patches.Rectangle((2.2, 3.75),1.9, 0.5,fill=False,color='red',lw=4))\n",
    "ax1.add_patch(patches.Rectangle((2.2, 2.75),1.9, 0.5,fill=False,color='red',lw=4))\n",
    "ax1.add_patch(patches.Rectangle((2.2, 1.75),1.9, 0.5,fill=False,color='red',lw=4))\n",
    "\n",
    "ax1.arrow(3.9, 4.95, 0.0, -0.45, head_width=0.1, head_length=0.2, fc='k', ec='k')\n",
    "ax1.set_yticklabels([])\n",
    "f.text(0.5, 0.98,'First-Order Wavelength (microns)', ha='center', fontsize=20)\n",
    "\n",
    "ax1.xaxis.get_major_ticks()[1].draw = lambda *args:None\n",
    "ax1.xaxis.get_major_ticks()[-1].draw = lambda *args:None\n",
    "\n",
    "ax1.tick_params(axis='both', right='off', left='off',bottom='off')\n",
    "\n",
    "ax3.tick_params(labelsize=20)\n",
    "ax3.tick_params('x', length=10, width=0.5, which='major')\n",
    "ax3.xaxis.set_label_position('bottom')\n",
    "ax3.xaxis.set_ticks_position('bottom')\n",
    "ax3.set_xticks([0.465,1.275,1.38,2])\n",
    "ax3.set_xticklabels(['0','1580','2048',''],rotation=45 )\n",
    "\n",
    "\n",
    "\n",
    "\n",
    "f, ax2 = plt.subplots(1,figsize=(12, 2))\n",
    "\n",
    "ax2.plot([3.89, 5.00], [0,0], 'k', lw=3) \n",
    "\n",
    "ms = 14\n",
    "ax2.plot(3.9, 0, 'kx', ms=ms)\n",
    "ax2.text(1.5, 0, 'F444W', va='center', fontsize=22)\n",
    "\n",
    "xticks = ax2.xaxis.get_major_ticks()\n",
    "\n",
    "ax2.set_xlim(1.25, 5.4)\n",
    "ax2.set_ylim(-0.7, 0.7)\n",
    "\n",
    "ax2.xaxis.tick_top()\n",
    "ax2.xaxis.set_label_position('bottom') \n",
    "ax2.xaxis.set_ticks_position('both')\n",
    "\n",
    "\n",
    "ax2.tick_params(labelsize=20)\n",
    "ax2.tick_params('y', length=10, width=0.5, which='major')\n",
    "ax2.tick_params('x', length=10, width=0.5, which='major')\n",
    "\n",
    "ax2.add_patch(patches.Rectangle((3.3, -0.25),1.9, 0.5,fill=False,color='red',lw=4))\n",
    "\n",
    "ax2.set_yticklabels([])\n",
    "# ax2.set_xticklabels([])\n",
    "plt.tick_params(axis='both', right='off', left='off',top='off')\n",
    "\n",
    "ax2.xaxis.set_label_position('bottom')\n",
    "ax2.xaxis.set_ticks_position('bottom')\n",
    "\n",
    "ax2.set_xticks([3.3,3.9,5.2])\n",
    "ax2.set_xticklabels(['0','950','2048'],rotation=45 )\n",
    "\n",
    "f.text(0.53, -0.4,'Detector Pixels', ha='center', fontsize=20)"
   ]
  },
  {
   "cell_type": "markdown",
   "metadata": {},
   "source": [
    "## Issues"
   ]
  },
  {
   "cell_type": "markdown",
   "metadata": {},
   "source": [
    "* None"
   ]
  },
  {
   "cell_type": "markdown",
   "metadata": {},
   "source": [
    "## About this Notebook\n",
    "**Authors:**   \n",
    "Dan Coe & Alicia Canipe\n",
    "\n",
    "**Updated On:**   \n",
    "April 10, 2019"
   ]
  },
  {
   "cell_type": "code",
   "execution_count": null,
   "metadata": {},
   "outputs": [],
   "source": []
  }
 ],
 "metadata": {
  "kernelspec": {
   "display_name": "Python 3",
   "language": "python",
   "name": "python3"
  },
  "language_info": {
   "codemirror_mode": {
    "name": "ipython",
    "version": 3
   },
   "file_extension": ".py",
   "mimetype": "text/x-python",
   "name": "python",
   "nbconvert_exporter": "python",
   "pygments_lexer": "ipython3",
   "version": "3.5.5"
  }
 },
 "nbformat": 4,
 "nbformat_minor": 1
}
